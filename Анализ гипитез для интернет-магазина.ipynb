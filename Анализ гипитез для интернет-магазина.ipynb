{
 "cells": [
  {
   "cell_type": "markdown",
   "metadata": {},
   "source": [
    "# Анализ гипитез для интернет-магазина"
   ]
  },
  {
   "cell_type": "markdown",
   "metadata": {},
   "source": [
    "В ходе работы предстоит провести приотизацию гипотез, просвести A/B тесты и проанализировать их. Для этого будет необходимо построить различные графики и произвести расчеты."
   ]
  },
  {
   "cell_type": "markdown",
   "metadata": {},
   "source": [
    "## Содержание"
   ]
  },
  {
   "cell_type": "markdown",
   "metadata": {},
   "source": [
    "2 Приоритизация гипотез\n",
    "\n",
    "    2.1 Импортируем библиотеки\n",
    "    \n",
    "    2.2 Подготовка таблицы hypothesis\n",
    "    \n",
    "        2.2.1 Изучаем данные таблицы\n",
    "        \n",
    "        2.2.2 Смотрим типы данных\n",
    "        \n",
    "        2.2.3 Проверяем на пропуски\n",
    "        \n",
    "        2.2.4 Проверяем на дубликаты\n",
    "        \n",
    "        2.2.5 Корректируем таблицу\n",
    "        \n",
    "    2.3 Применим фреймворк ICE для приоритизации гипоте.\n",
    "    \n",
    "    2.4 Применим фреймворк RICE для приоритизации гипоте.\n",
    "    \n",
    "    2.5 Как изменилась приоритизация гипотез при применении RICE вместо ICE\n",
    "    \n",
    "3 Анализ A/B-теста\n",
    "\n",
    "    3.1 Подготовка таблицы orders\n",
    "\n",
    "        3.1.1 Изучаем данные таблицы\n",
    "        \n",
    "        3.1.2 Смотрим типы данных\n",
    "        \n",
    "        3.1.3 Проверяем на пропуски\n",
    "        \n",
    "        3.1.4 Проверяем на дубликаты\n",
    "        \n",
    "        3.1.5 Корректируем таблицу\n",
    "        \n",
    "    3.2 Подготовка таблицы visitors\n",
    "    \n",
    "        3.2.1 Изучаем данные таблицы\n",
    "        \n",
    "        3.2.2 Смотрим типы данных\n",
    "        \n",
    "        3.2.3 Проверяем на пропуски\n",
    "        \n",
    "        3.2.4 Проверяем на дубликаты\n",
    "        \n",
    "        3.2.5 Корректируем таблицу\n",
    "        \n",
    "    3.3 Проверка групп на пересечение\n",
    "    \n",
    "    3.4 Построим график кумулятивной выручки по группам.\n",
    "\n",
    "    3.5 Построим график кумулятивного среднего чека по группам.\n",
    "\n",
    "    3.6 Построим график относительного изменения кумулятивного среднего чека группы B к группе A.\n",
    "\n",
    "    3.7 Построим график кумулятивного среднего количества заказов на посетителя по группам.\n",
    "\n",
    "    3.8 Построим график относительного изменения кумулятивного среднего количества заказов на посетителя группы B к группе A.\n",
    "\n",
    "    3.9 Построим точечный график количества заказов по пользователям.\n",
    "\n",
    "    3.10 Посчитаем 95-й и 99-й перцентили количества заказов на пользователя.\n",
    "\n",
    "    3.11 Построим точечный график стоимостей заказов.\n",
    "\n",
    "    3.12 Посчитаем 95-й и 99-й перцентили стоимости заказов.\n",
    "\n",
    "    3.13 Посчитаем статистическую значимость различий в среднем количестве заказов на посетителя между группами по «сырым» данным.\n",
    "\n",
    "    3.14 Посчитаем статистическую значимость различий в среднем чеке заказа между группами по «сырым» данным.\n",
    "\n",
    "    3.15 Посчитаем статистическую значимость различий в среднем количестве заказов на посетителя между группами по «очищенным» данным. \n",
    "\n",
    "    3.16 Посчитаем статистическую значимость различий в среднем чеке заказа между группами по «очищенным» данным.\n",
    "\n",
    "    3.17 Примем решение по результатам теста и объясните его.\n",
    "\n",
    "    3.18 Итоговый вывод"
   ]
  },
  {
   "cell_type": "markdown",
   "metadata": {},
   "source": [
    "## Приоритизация гипотез"
   ]
  },
  {
   "cell_type": "markdown",
   "metadata": {},
   "source": [
    "### Импортируем библиотеки"
   ]
  },
  {
   "cell_type": "code",
   "execution_count": 1,
   "metadata": {},
   "outputs": [],
   "source": [
    "import pandas as pd\n",
    "import scipy.stats as stats\n",
    "import datetime as dt\n",
    "import numpy as np\n",
    "import matplotlib.pyplot as plt\n",
    "import seaborn as sns\n",
    "from scipy import stats as st"
   ]
  },
  {
   "cell_type": "code",
   "execution_count": 2,
   "metadata": {},
   "outputs": [],
   "source": [
    "hypothesis = pd.read_csv('/datasets/hypothesis.csv')\n",
    "orders = pd.read_csv('/datasets/orders.csv')\n",
    "visitors = pd.read_csv('/datasets/visitors.csv')"
   ]
  },
  {
   "cell_type": "markdown",
   "metadata": {},
   "source": [
    "### Подготовка таблицы hypothesis"
   ]
  },
  {
   "cell_type": "markdown",
   "metadata": {},
   "source": [
    "#### Изучаем данные таблицы"
   ]
  },
  {
   "cell_type": "code",
   "execution_count": 3,
   "metadata": {
    "scrolled": false
   },
   "outputs": [
    {
     "data": {
      "text/html": [
       "<div>\n",
       "<style scoped>\n",
       "    .dataframe tbody tr th:only-of-type {\n",
       "        vertical-align: middle;\n",
       "    }\n",
       "\n",
       "    .dataframe tbody tr th {\n",
       "        vertical-align: top;\n",
       "    }\n",
       "\n",
       "    .dataframe thead th {\n",
       "        text-align: right;\n",
       "    }\n",
       "</style>\n",
       "<table border=\"1\" class=\"dataframe\">\n",
       "  <thead>\n",
       "    <tr style=\"text-align: right;\">\n",
       "      <th></th>\n",
       "      <th>Hypothesis</th>\n",
       "      <th>Reach</th>\n",
       "      <th>Impact</th>\n",
       "      <th>Confidence</th>\n",
       "      <th>Efforts</th>\n",
       "    </tr>\n",
       "  </thead>\n",
       "  <tbody>\n",
       "    <tr>\n",
       "      <th>0</th>\n",
       "      <td>Добавить два новых канала привлечения трафика, что позволит привлекать на 30% больше пользователей</td>\n",
       "      <td>3</td>\n",
       "      <td>10</td>\n",
       "      <td>8</td>\n",
       "      <td>6</td>\n",
       "    </tr>\n",
       "    <tr>\n",
       "      <th>1</th>\n",
       "      <td>Запустить собственную службу доставки, что сократит срок доставки заказов</td>\n",
       "      <td>2</td>\n",
       "      <td>5</td>\n",
       "      <td>4</td>\n",
       "      <td>10</td>\n",
       "    </tr>\n",
       "    <tr>\n",
       "      <th>2</th>\n",
       "      <td>Добавить блоки рекомендаций товаров на сайт интернет магазина, чтобы повысить конверсию и средний чек заказа</td>\n",
       "      <td>8</td>\n",
       "      <td>3</td>\n",
       "      <td>7</td>\n",
       "      <td>3</td>\n",
       "    </tr>\n",
       "    <tr>\n",
       "      <th>3</th>\n",
       "      <td>Изменить структура категорий, что увеличит конверсию, т.к. пользователи быстрее найдут нужный товар</td>\n",
       "      <td>8</td>\n",
       "      <td>3</td>\n",
       "      <td>3</td>\n",
       "      <td>8</td>\n",
       "    </tr>\n",
       "    <tr>\n",
       "      <th>4</th>\n",
       "      <td>Изменить цвет фона главной страницы, чтобы увеличить вовлеченность пользователей</td>\n",
       "      <td>3</td>\n",
       "      <td>1</td>\n",
       "      <td>1</td>\n",
       "      <td>1</td>\n",
       "    </tr>\n",
       "    <tr>\n",
       "      <th>5</th>\n",
       "      <td>Добавить страницу отзывов клиентов о магазине, что позволит увеличить количество заказов</td>\n",
       "      <td>3</td>\n",
       "      <td>2</td>\n",
       "      <td>2</td>\n",
       "      <td>3</td>\n",
       "    </tr>\n",
       "    <tr>\n",
       "      <th>6</th>\n",
       "      <td>Показать на главной странице баннеры с актуальными акциями и распродажами, чтобы увеличить конверсию</td>\n",
       "      <td>5</td>\n",
       "      <td>3</td>\n",
       "      <td>8</td>\n",
       "      <td>3</td>\n",
       "    </tr>\n",
       "    <tr>\n",
       "      <th>7</th>\n",
       "      <td>Добавить форму подписки на все основные страницы, чтобы собрать базу клиентов для email-рассылок</td>\n",
       "      <td>10</td>\n",
       "      <td>7</td>\n",
       "      <td>8</td>\n",
       "      <td>5</td>\n",
       "    </tr>\n",
       "    <tr>\n",
       "      <th>8</th>\n",
       "      <td>Запустить акцию, дающую скидку на товар в день рождения</td>\n",
       "      <td>1</td>\n",
       "      <td>9</td>\n",
       "      <td>9</td>\n",
       "      <td>5</td>\n",
       "    </tr>\n",
       "  </tbody>\n",
       "</table>\n",
       "</div>"
      ],
      "text/plain": [
       "                                                                                                     Hypothesis  \\\n",
       "0            Добавить два новых канала привлечения трафика, что позволит привлекать на 30% больше пользователей   \n",
       "1                                     Запустить собственную службу доставки, что сократит срок доставки заказов   \n",
       "2  Добавить блоки рекомендаций товаров на сайт интернет магазина, чтобы повысить конверсию и средний чек заказа   \n",
       "3           Изменить структура категорий, что увеличит конверсию, т.к. пользователи быстрее найдут нужный товар   \n",
       "4                              Изменить цвет фона главной страницы, чтобы увеличить вовлеченность пользователей   \n",
       "5                      Добавить страницу отзывов клиентов о магазине, что позволит увеличить количество заказов   \n",
       "6          Показать на главной странице баннеры с актуальными акциями и распродажами, чтобы увеличить конверсию   \n",
       "7              Добавить форму подписки на все основные страницы, чтобы собрать базу клиентов для email-рассылок   \n",
       "8                                                       Запустить акцию, дающую скидку на товар в день рождения   \n",
       "\n",
       "   Reach  Impact  Confidence  Efforts  \n",
       "0      3      10           8        6  \n",
       "1      2       5           4       10  \n",
       "2      8       3           7        3  \n",
       "3      8       3           3        8  \n",
       "4      3       1           1        1  \n",
       "5      3       2           2        3  \n",
       "6      5       3           8        3  \n",
       "7     10       7           8        5  \n",
       "8      1       9           9        5  "
      ]
     },
     "execution_count": 3,
     "metadata": {},
     "output_type": "execute_result"
    }
   ],
   "source": [
    "pd.set_option('max_colwidth', 150)\n",
    "hypothesis.head(9)"
   ]
  },
  {
   "cell_type": "markdown",
   "metadata": {},
   "source": [
    "#### Смотрим типы данных"
   ]
  },
  {
   "cell_type": "code",
   "execution_count": 4,
   "metadata": {},
   "outputs": [
    {
     "name": "stdout",
     "output_type": "stream",
     "text": [
      "<class 'pandas.core.frame.DataFrame'>\n",
      "RangeIndex: 9 entries, 0 to 8\n",
      "Data columns (total 5 columns):\n",
      " #   Column      Non-Null Count  Dtype \n",
      "---  ------      --------------  ----- \n",
      " 0   Hypothesis  9 non-null      object\n",
      " 1   Reach       9 non-null      int64 \n",
      " 2   Impact      9 non-null      int64 \n",
      " 3   Confidence  9 non-null      int64 \n",
      " 4   Efforts     9 non-null      int64 \n",
      "dtypes: int64(4), object(1)\n",
      "memory usage: 488.0+ bytes\n"
     ]
    }
   ],
   "source": [
    "hypothesis.info()"
   ]
  },
  {
   "cell_type": "markdown",
   "metadata": {},
   "source": [
    "#### Проверяем на пропуски"
   ]
  },
  {
   "cell_type": "code",
   "execution_count": 5,
   "metadata": {},
   "outputs": [
    {
     "data": {
      "text/plain": [
       "Hypothesis    0\n",
       "Reach         0\n",
       "Impact        0\n",
       "Confidence    0\n",
       "Efforts       0\n",
       "dtype: int64"
      ]
     },
     "execution_count": 5,
     "metadata": {},
     "output_type": "execute_result"
    }
   ],
   "source": [
    "hypothesis.isna().sum()"
   ]
  },
  {
   "cell_type": "markdown",
   "metadata": {},
   "source": [
    "#### Проверяем на дубликаты"
   ]
  },
  {
   "cell_type": "code",
   "execution_count": 6,
   "metadata": {},
   "outputs": [
    {
     "data": {
      "text/plain": [
       "0"
      ]
     },
     "execution_count": 6,
     "metadata": {},
     "output_type": "execute_result"
    }
   ],
   "source": [
    "hypothesis.duplicated().sum()"
   ]
  },
  {
   "cell_type": "markdown",
   "metadata": {},
   "source": [
    "_Вывод:_ В таблице hypothesis необходимо превести названия столбцов к одному регистру. Пропусков и дубликатов нет."
   ]
  },
  {
   "cell_type": "markdown",
   "metadata": {},
   "source": [
    "#### Корректируем таблицу"
   ]
  },
  {
   "cell_type": "code",
   "execution_count": 7,
   "metadata": {
    "scrolled": true
   },
   "outputs": [
    {
     "data": {
      "text/html": [
       "<div>\n",
       "<style scoped>\n",
       "    .dataframe tbody tr th:only-of-type {\n",
       "        vertical-align: middle;\n",
       "    }\n",
       "\n",
       "    .dataframe tbody tr th {\n",
       "        vertical-align: top;\n",
       "    }\n",
       "\n",
       "    .dataframe thead th {\n",
       "        text-align: right;\n",
       "    }\n",
       "</style>\n",
       "<table border=\"1\" class=\"dataframe\">\n",
       "  <thead>\n",
       "    <tr style=\"text-align: right;\">\n",
       "      <th></th>\n",
       "      <th>hypothesis</th>\n",
       "      <th>reach</th>\n",
       "      <th>impact</th>\n",
       "      <th>confidence</th>\n",
       "      <th>efforts</th>\n",
       "    </tr>\n",
       "  </thead>\n",
       "  <tbody>\n",
       "    <tr>\n",
       "      <th>0</th>\n",
       "      <td>Добавить два новых канала привлечения трафика, что позволит привлекать на 30% больше пользователей</td>\n",
       "      <td>3</td>\n",
       "      <td>10</td>\n",
       "      <td>8</td>\n",
       "      <td>6</td>\n",
       "    </tr>\n",
       "    <tr>\n",
       "      <th>1</th>\n",
       "      <td>Запустить собственную службу доставки, что сократит срок доставки заказов</td>\n",
       "      <td>2</td>\n",
       "      <td>5</td>\n",
       "      <td>4</td>\n",
       "      <td>10</td>\n",
       "    </tr>\n",
       "    <tr>\n",
       "      <th>2</th>\n",
       "      <td>Добавить блоки рекомендаций товаров на сайт интернет магазина, чтобы повысить конверсию и средний чек заказа</td>\n",
       "      <td>8</td>\n",
       "      <td>3</td>\n",
       "      <td>7</td>\n",
       "      <td>3</td>\n",
       "    </tr>\n",
       "    <tr>\n",
       "      <th>3</th>\n",
       "      <td>Изменить структура категорий, что увеличит конверсию, т.к. пользователи быстрее найдут нужный товар</td>\n",
       "      <td>8</td>\n",
       "      <td>3</td>\n",
       "      <td>3</td>\n",
       "      <td>8</td>\n",
       "    </tr>\n",
       "    <tr>\n",
       "      <th>4</th>\n",
       "      <td>Изменить цвет фона главной страницы, чтобы увеличить вовлеченность пользователей</td>\n",
       "      <td>3</td>\n",
       "      <td>1</td>\n",
       "      <td>1</td>\n",
       "      <td>1</td>\n",
       "    </tr>\n",
       "    <tr>\n",
       "      <th>5</th>\n",
       "      <td>Добавить страницу отзывов клиентов о магазине, что позволит увеличить количество заказов</td>\n",
       "      <td>3</td>\n",
       "      <td>2</td>\n",
       "      <td>2</td>\n",
       "      <td>3</td>\n",
       "    </tr>\n",
       "    <tr>\n",
       "      <th>6</th>\n",
       "      <td>Показать на главной странице баннеры с актуальными акциями и распродажами, чтобы увеличить конверсию</td>\n",
       "      <td>5</td>\n",
       "      <td>3</td>\n",
       "      <td>8</td>\n",
       "      <td>3</td>\n",
       "    </tr>\n",
       "    <tr>\n",
       "      <th>7</th>\n",
       "      <td>Добавить форму подписки на все основные страницы, чтобы собрать базу клиентов для email-рассылок</td>\n",
       "      <td>10</td>\n",
       "      <td>7</td>\n",
       "      <td>8</td>\n",
       "      <td>5</td>\n",
       "    </tr>\n",
       "    <tr>\n",
       "      <th>8</th>\n",
       "      <td>Запустить акцию, дающую скидку на товар в день рождения</td>\n",
       "      <td>1</td>\n",
       "      <td>9</td>\n",
       "      <td>9</td>\n",
       "      <td>5</td>\n",
       "    </tr>\n",
       "  </tbody>\n",
       "</table>\n",
       "</div>"
      ],
      "text/plain": [
       "                                                                                                     hypothesis  \\\n",
       "0            Добавить два новых канала привлечения трафика, что позволит привлекать на 30% больше пользователей   \n",
       "1                                     Запустить собственную службу доставки, что сократит срок доставки заказов   \n",
       "2  Добавить блоки рекомендаций товаров на сайт интернет магазина, чтобы повысить конверсию и средний чек заказа   \n",
       "3           Изменить структура категорий, что увеличит конверсию, т.к. пользователи быстрее найдут нужный товар   \n",
       "4                              Изменить цвет фона главной страницы, чтобы увеличить вовлеченность пользователей   \n",
       "5                      Добавить страницу отзывов клиентов о магазине, что позволит увеличить количество заказов   \n",
       "6          Показать на главной странице баннеры с актуальными акциями и распродажами, чтобы увеличить конверсию   \n",
       "7              Добавить форму подписки на все основные страницы, чтобы собрать базу клиентов для email-рассылок   \n",
       "8                                                       Запустить акцию, дающую скидку на товар в день рождения   \n",
       "\n",
       "   reach  impact  confidence  efforts  \n",
       "0      3      10           8        6  \n",
       "1      2       5           4       10  \n",
       "2      8       3           7        3  \n",
       "3      8       3           3        8  \n",
       "4      3       1           1        1  \n",
       "5      3       2           2        3  \n",
       "6      5       3           8        3  \n",
       "7     10       7           8        5  \n",
       "8      1       9           9        5  "
      ]
     },
     "execution_count": 7,
     "metadata": {},
     "output_type": "execute_result"
    }
   ],
   "source": [
    "hypothesis.columns = hypothesis.columns.str.lower()\n",
    "hypothesis"
   ]
  },
  {
   "cell_type": "markdown",
   "metadata": {},
   "source": [
    "### Применим фреймворк ICE для приоритизации гипоте."
   ]
  },
  {
   "cell_type": "code",
   "execution_count": 8,
   "metadata": {},
   "outputs": [
    {
     "data": {
      "text/html": [
       "<div>\n",
       "<style scoped>\n",
       "    .dataframe tbody tr th:only-of-type {\n",
       "        vertical-align: middle;\n",
       "    }\n",
       "\n",
       "    .dataframe tbody tr th {\n",
       "        vertical-align: top;\n",
       "    }\n",
       "\n",
       "    .dataframe thead th {\n",
       "        text-align: right;\n",
       "    }\n",
       "</style>\n",
       "<table border=\"1\" class=\"dataframe\">\n",
       "  <thead>\n",
       "    <tr style=\"text-align: right;\">\n",
       "      <th></th>\n",
       "      <th>ice</th>\n",
       "      <th>hypothesis</th>\n",
       "    </tr>\n",
       "  </thead>\n",
       "  <tbody>\n",
       "    <tr>\n",
       "      <th>8</th>\n",
       "      <td>16.20</td>\n",
       "      <td>Запустить акцию, дающую скидку на товар в день рождения</td>\n",
       "    </tr>\n",
       "    <tr>\n",
       "      <th>0</th>\n",
       "      <td>13.33</td>\n",
       "      <td>Добавить два новых канала привлечения трафика, что позволит привлекать на 30% больше пользователей</td>\n",
       "    </tr>\n",
       "    <tr>\n",
       "      <th>7</th>\n",
       "      <td>11.20</td>\n",
       "      <td>Добавить форму подписки на все основные страницы, чтобы собрать базу клиентов для email-рассылок</td>\n",
       "    </tr>\n",
       "    <tr>\n",
       "      <th>6</th>\n",
       "      <td>8.00</td>\n",
       "      <td>Показать на главной странице баннеры с актуальными акциями и распродажами, чтобы увеличить конверсию</td>\n",
       "    </tr>\n",
       "    <tr>\n",
       "      <th>2</th>\n",
       "      <td>7.00</td>\n",
       "      <td>Добавить блоки рекомендаций товаров на сайт интернет магазина, чтобы повысить конверсию и средний чек заказа</td>\n",
       "    </tr>\n",
       "    <tr>\n",
       "      <th>1</th>\n",
       "      <td>2.00</td>\n",
       "      <td>Запустить собственную службу доставки, что сократит срок доставки заказов</td>\n",
       "    </tr>\n",
       "    <tr>\n",
       "      <th>5</th>\n",
       "      <td>1.33</td>\n",
       "      <td>Добавить страницу отзывов клиентов о магазине, что позволит увеличить количество заказов</td>\n",
       "    </tr>\n",
       "    <tr>\n",
       "      <th>3</th>\n",
       "      <td>1.12</td>\n",
       "      <td>Изменить структура категорий, что увеличит конверсию, т.к. пользователи быстрее найдут нужный товар</td>\n",
       "    </tr>\n",
       "    <tr>\n",
       "      <th>4</th>\n",
       "      <td>1.00</td>\n",
       "      <td>Изменить цвет фона главной страницы, чтобы увеличить вовлеченность пользователей</td>\n",
       "    </tr>\n",
       "  </tbody>\n",
       "</table>\n",
       "</div>"
      ],
      "text/plain": [
       "     ice  \\\n",
       "8  16.20   \n",
       "0  13.33   \n",
       "7  11.20   \n",
       "6   8.00   \n",
       "2   7.00   \n",
       "1   2.00   \n",
       "5   1.33   \n",
       "3   1.12   \n",
       "4   1.00   \n",
       "\n",
       "                                                                                                     hypothesis  \n",
       "8                                                       Запустить акцию, дающую скидку на товар в день рождения  \n",
       "0            Добавить два новых канала привлечения трафика, что позволит привлекать на 30% больше пользователей  \n",
       "7              Добавить форму подписки на все основные страницы, чтобы собрать базу клиентов для email-рассылок  \n",
       "6          Показать на главной странице баннеры с актуальными акциями и распродажами, чтобы увеличить конверсию  \n",
       "2  Добавить блоки рекомендаций товаров на сайт интернет магазина, чтобы повысить конверсию и средний чек заказа  \n",
       "1                                     Запустить собственную службу доставки, что сократит срок доставки заказов  \n",
       "5                      Добавить страницу отзывов клиентов о магазине, что позволит увеличить количество заказов  \n",
       "3           Изменить структура категорий, что увеличит конверсию, т.к. пользователи быстрее найдут нужный товар  \n",
       "4                              Изменить цвет фона главной страницы, чтобы увеличить вовлеченность пользователей  "
      ]
     },
     "execution_count": 8,
     "metadata": {},
     "output_type": "execute_result"
    }
   ],
   "source": [
    "hypothesis['ice'] = ((hypothesis['impact'] * hypothesis['confidence']) / hypothesis['efforts']).round(2)\n",
    "hypothesis[['ice', 'hypothesis']].sort_values(by='ice', ascending=False)"
   ]
  },
  {
   "cell_type": "markdown",
   "metadata": {},
   "source": [
    "Приоритетные гипотезы: 8, 0, 7. "
   ]
  },
  {
   "cell_type": "markdown",
   "metadata": {},
   "source": [
    "### Применим фреймворк RICE для приоритизации гипоте."
   ]
  },
  {
   "cell_type": "code",
   "execution_count": 9,
   "metadata": {
    "scrolled": true
   },
   "outputs": [
    {
     "data": {
      "text/html": [
       "<div>\n",
       "<style scoped>\n",
       "    .dataframe tbody tr th:only-of-type {\n",
       "        vertical-align: middle;\n",
       "    }\n",
       "\n",
       "    .dataframe tbody tr th {\n",
       "        vertical-align: top;\n",
       "    }\n",
       "\n",
       "    .dataframe thead th {\n",
       "        text-align: right;\n",
       "    }\n",
       "</style>\n",
       "<table border=\"1\" class=\"dataframe\">\n",
       "  <thead>\n",
       "    <tr style=\"text-align: right;\">\n",
       "      <th></th>\n",
       "      <th>hypothesis</th>\n",
       "      <th>rice</th>\n",
       "    </tr>\n",
       "  </thead>\n",
       "  <tbody>\n",
       "    <tr>\n",
       "      <th>7</th>\n",
       "      <td>Добавить форму подписки на все основные страницы, чтобы собрать базу клиентов для email-рассылок</td>\n",
       "      <td>112.0</td>\n",
       "    </tr>\n",
       "    <tr>\n",
       "      <th>2</th>\n",
       "      <td>Добавить блоки рекомендаций товаров на сайт интернет магазина, чтобы повысить конверсию и средний чек заказа</td>\n",
       "      <td>56.0</td>\n",
       "    </tr>\n",
       "    <tr>\n",
       "      <th>0</th>\n",
       "      <td>Добавить два новых канала привлечения трафика, что позволит привлекать на 30% больше пользователей</td>\n",
       "      <td>40.0</td>\n",
       "    </tr>\n",
       "    <tr>\n",
       "      <th>6</th>\n",
       "      <td>Показать на главной странице баннеры с актуальными акциями и распродажами, чтобы увеличить конверсию</td>\n",
       "      <td>40.0</td>\n",
       "    </tr>\n",
       "    <tr>\n",
       "      <th>8</th>\n",
       "      <td>Запустить акцию, дающую скидку на товар в день рождения</td>\n",
       "      <td>16.2</td>\n",
       "    </tr>\n",
       "    <tr>\n",
       "      <th>3</th>\n",
       "      <td>Изменить структура категорий, что увеличит конверсию, т.к. пользователи быстрее найдут нужный товар</td>\n",
       "      <td>9.0</td>\n",
       "    </tr>\n",
       "    <tr>\n",
       "      <th>1</th>\n",
       "      <td>Запустить собственную службу доставки, что сократит срок доставки заказов</td>\n",
       "      <td>4.0</td>\n",
       "    </tr>\n",
       "    <tr>\n",
       "      <th>5</th>\n",
       "      <td>Добавить страницу отзывов клиентов о магазине, что позволит увеличить количество заказов</td>\n",
       "      <td>4.0</td>\n",
       "    </tr>\n",
       "    <tr>\n",
       "      <th>4</th>\n",
       "      <td>Изменить цвет фона главной страницы, чтобы увеличить вовлеченность пользователей</td>\n",
       "      <td>3.0</td>\n",
       "    </tr>\n",
       "  </tbody>\n",
       "</table>\n",
       "</div>"
      ],
      "text/plain": [
       "                                                                                                     hypothesis  \\\n",
       "7              Добавить форму подписки на все основные страницы, чтобы собрать базу клиентов для email-рассылок   \n",
       "2  Добавить блоки рекомендаций товаров на сайт интернет магазина, чтобы повысить конверсию и средний чек заказа   \n",
       "0            Добавить два новых канала привлечения трафика, что позволит привлекать на 30% больше пользователей   \n",
       "6          Показать на главной странице баннеры с актуальными акциями и распродажами, чтобы увеличить конверсию   \n",
       "8                                                       Запустить акцию, дающую скидку на товар в день рождения   \n",
       "3           Изменить структура категорий, что увеличит конверсию, т.к. пользователи быстрее найдут нужный товар   \n",
       "1                                     Запустить собственную службу доставки, что сократит срок доставки заказов   \n",
       "5                      Добавить страницу отзывов клиентов о магазине, что позволит увеличить количество заказов   \n",
       "4                              Изменить цвет фона главной страницы, чтобы увеличить вовлеченность пользователей   \n",
       "\n",
       "    rice  \n",
       "7  112.0  \n",
       "2   56.0  \n",
       "0   40.0  \n",
       "6   40.0  \n",
       "8   16.2  \n",
       "3    9.0  \n",
       "1    4.0  \n",
       "5    4.0  \n",
       "4    3.0  "
      ]
     },
     "execution_count": 9,
     "metadata": {},
     "output_type": "execute_result"
    }
   ],
   "source": [
    "hypothesis['rice'] = (hypothesis['reach']  * hypothesis['impact'] * hypothesis['confidence']) / hypothesis['efforts']\n",
    "hypothesis[['hypothesis', 'rice']].sort_values(by='rice', ascending=False)"
   ]
  },
  {
   "cell_type": "markdown",
   "metadata": {},
   "source": [
    "Приоритетные гипотезы: 7, 2, 0. "
   ]
  },
  {
   "cell_type": "markdown",
   "metadata": {},
   "source": [
    "### Как изменилась приоритизация гипотез при применении RICE вместо ICE"
   ]
  },
  {
   "cell_type": "markdown",
   "metadata": {},
   "source": [
    "При применении фреймворка ICE приотизация была: 8, 0, 7. А при применении фреймворка RICE 7, 2, 0. Отличия в топах методов связано с тем, что фреймворк RICE учитывает параметр Reach, который показывает охват пользователей, которых заденет измененние. В фреймворке ICE этот параметр не учитывается."
   ]
  },
  {
   "cell_type": "markdown",
   "metadata": {},
   "source": [
    "_**Вывод по пункту:**_ Так, мы провели подготовку таблицы hypothesis. Выяснили, что в ней нет дубликатов и повторов, привели названия колонок к одному регистру. Применили фреймворки ICE и RICE. При применении фреймворка ICE приотизация была: 8, 0, 7. А при применении фреймворка RICE 7, 2, 0. Отличия в топах методов связано с тем, что фреймворк RICE учитывает параметр Reach, который показывает охват пользователей, которых заденет измененние. В фреймворке ICE этот параметр не учитывается."
   ]
  },
  {
   "cell_type": "markdown",
   "metadata": {},
   "source": [
    "## Анализ A/B-теста"
   ]
  },
  {
   "cell_type": "markdown",
   "metadata": {},
   "source": [
    "### Подготовка таблицы orders"
   ]
  },
  {
   "cell_type": "markdown",
   "metadata": {},
   "source": [
    "#### Изучаем данные таблицы"
   ]
  },
  {
   "cell_type": "code",
   "execution_count": 10,
   "metadata": {},
   "outputs": [
    {
     "data": {
      "text/html": [
       "<div>\n",
       "<style scoped>\n",
       "    .dataframe tbody tr th:only-of-type {\n",
       "        vertical-align: middle;\n",
       "    }\n",
       "\n",
       "    .dataframe tbody tr th {\n",
       "        vertical-align: top;\n",
       "    }\n",
       "\n",
       "    .dataframe thead th {\n",
       "        text-align: right;\n",
       "    }\n",
       "</style>\n",
       "<table border=\"1\" class=\"dataframe\">\n",
       "  <thead>\n",
       "    <tr style=\"text-align: right;\">\n",
       "      <th></th>\n",
       "      <th>transactionId</th>\n",
       "      <th>visitorId</th>\n",
       "      <th>date</th>\n",
       "      <th>revenue</th>\n",
       "      <th>group</th>\n",
       "    </tr>\n",
       "  </thead>\n",
       "  <tbody>\n",
       "    <tr>\n",
       "      <th>0</th>\n",
       "      <td>3667963787</td>\n",
       "      <td>3312258926</td>\n",
       "      <td>2019-08-15</td>\n",
       "      <td>1650</td>\n",
       "      <td>B</td>\n",
       "    </tr>\n",
       "    <tr>\n",
       "      <th>1</th>\n",
       "      <td>2804400009</td>\n",
       "      <td>3642806036</td>\n",
       "      <td>2019-08-15</td>\n",
       "      <td>730</td>\n",
       "      <td>B</td>\n",
       "    </tr>\n",
       "    <tr>\n",
       "      <th>2</th>\n",
       "      <td>2961555356</td>\n",
       "      <td>4069496402</td>\n",
       "      <td>2019-08-15</td>\n",
       "      <td>400</td>\n",
       "      <td>A</td>\n",
       "    </tr>\n",
       "    <tr>\n",
       "      <th>3</th>\n",
       "      <td>3797467345</td>\n",
       "      <td>1196621759</td>\n",
       "      <td>2019-08-15</td>\n",
       "      <td>9759</td>\n",
       "      <td>B</td>\n",
       "    </tr>\n",
       "    <tr>\n",
       "      <th>4</th>\n",
       "      <td>2282983706</td>\n",
       "      <td>2322279887</td>\n",
       "      <td>2019-08-15</td>\n",
       "      <td>2308</td>\n",
       "      <td>B</td>\n",
       "    </tr>\n",
       "  </tbody>\n",
       "</table>\n",
       "</div>"
      ],
      "text/plain": [
       "   transactionId   visitorId        date  revenue group\n",
       "0     3667963787  3312258926  2019-08-15     1650     B\n",
       "1     2804400009  3642806036  2019-08-15      730     B\n",
       "2     2961555356  4069496402  2019-08-15      400     A\n",
       "3     3797467345  1196621759  2019-08-15     9759     B\n",
       "4     2282983706  2322279887  2019-08-15     2308     B"
      ]
     },
     "execution_count": 10,
     "metadata": {},
     "output_type": "execute_result"
    }
   ],
   "source": [
    "orders.head(5)"
   ]
  },
  {
   "cell_type": "markdown",
   "metadata": {},
   "source": [
    "#### Смотрим типы данных"
   ]
  },
  {
   "cell_type": "code",
   "execution_count": 11,
   "metadata": {},
   "outputs": [
    {
     "name": "stdout",
     "output_type": "stream",
     "text": [
      "<class 'pandas.core.frame.DataFrame'>\n",
      "RangeIndex: 1197 entries, 0 to 1196\n",
      "Data columns (total 5 columns):\n",
      " #   Column         Non-Null Count  Dtype \n",
      "---  ------         --------------  ----- \n",
      " 0   transactionId  1197 non-null   int64 \n",
      " 1   visitorId      1197 non-null   int64 \n",
      " 2   date           1197 non-null   object\n",
      " 3   revenue        1197 non-null   int64 \n",
      " 4   group          1197 non-null   object\n",
      "dtypes: int64(3), object(2)\n",
      "memory usage: 46.9+ KB\n"
     ]
    }
   ],
   "source": [
    "orders.info()"
   ]
  },
  {
   "cell_type": "markdown",
   "metadata": {},
   "source": [
    "Необходимо изменить тип колонки date на datetime64. И привести скорректировать названия столбцов."
   ]
  },
  {
   "cell_type": "markdown",
   "metadata": {},
   "source": [
    "#### Проверяем на пропуски"
   ]
  },
  {
   "cell_type": "code",
   "execution_count": 12,
   "metadata": {},
   "outputs": [
    {
     "data": {
      "text/plain": [
       "transactionId    0\n",
       "visitorId        0\n",
       "date             0\n",
       "revenue          0\n",
       "group            0\n",
       "dtype: int64"
      ]
     },
     "execution_count": 12,
     "metadata": {},
     "output_type": "execute_result"
    }
   ],
   "source": [
    "orders.isna().sum()"
   ]
  },
  {
   "cell_type": "markdown",
   "metadata": {},
   "source": [
    "#### Проверяем на дубликаты"
   ]
  },
  {
   "cell_type": "code",
   "execution_count": 13,
   "metadata": {},
   "outputs": [
    {
     "data": {
      "text/plain": [
       "0"
      ]
     },
     "execution_count": 13,
     "metadata": {},
     "output_type": "execute_result"
    }
   ],
   "source": [
    "orders.duplicated().sum()"
   ]
  },
  {
   "cell_type": "markdown",
   "metadata": {},
   "source": [
    "_Вывод:_ В таблице orders необходимо изменить тип колонки date на datetime64. Пропусков и дубликатов нет."
   ]
  },
  {
   "cell_type": "markdown",
   "metadata": {},
   "source": [
    "#### Корректируем таблицу"
   ]
  },
  {
   "cell_type": "code",
   "execution_count": 14,
   "metadata": {},
   "outputs": [],
   "source": [
    "orders['date'] = orders['date'].map(\n",
    "    lambda x: dt.datetime.strptime(x, '%Y-%m-%d')\n",
    ")"
   ]
  },
  {
   "cell_type": "code",
   "execution_count": 15,
   "metadata": {},
   "outputs": [],
   "source": [
    "orders.columns = ['transaction_id', 'visitor_id', 'date', 'revenue', 'group']"
   ]
  },
  {
   "cell_type": "code",
   "execution_count": 16,
   "metadata": {
    "scrolled": true
   },
   "outputs": [
    {
     "name": "stdout",
     "output_type": "stream",
     "text": [
      "<class 'pandas.core.frame.DataFrame'>\n",
      "RangeIndex: 1197 entries, 0 to 1196\n",
      "Data columns (total 5 columns):\n",
      " #   Column          Non-Null Count  Dtype         \n",
      "---  ------          --------------  -----         \n",
      " 0   transaction_id  1197 non-null   int64         \n",
      " 1   visitor_id      1197 non-null   int64         \n",
      " 2   date            1197 non-null   datetime64[ns]\n",
      " 3   revenue         1197 non-null   int64         \n",
      " 4   group           1197 non-null   object        \n",
      "dtypes: datetime64[ns](1), int64(3), object(1)\n",
      "memory usage: 46.9+ KB\n"
     ]
    }
   ],
   "source": [
    "orders.info()"
   ]
  },
  {
   "cell_type": "markdown",
   "metadata": {},
   "source": [
    "### Подготовка таблицы visitors"
   ]
  },
  {
   "cell_type": "markdown",
   "metadata": {},
   "source": [
    "#### Изучаем данные таблицы"
   ]
  },
  {
   "cell_type": "code",
   "execution_count": 17,
   "metadata": {},
   "outputs": [
    {
     "data": {
      "text/html": [
       "<div>\n",
       "<style scoped>\n",
       "    .dataframe tbody tr th:only-of-type {\n",
       "        vertical-align: middle;\n",
       "    }\n",
       "\n",
       "    .dataframe tbody tr th {\n",
       "        vertical-align: top;\n",
       "    }\n",
       "\n",
       "    .dataframe thead th {\n",
       "        text-align: right;\n",
       "    }\n",
       "</style>\n",
       "<table border=\"1\" class=\"dataframe\">\n",
       "  <thead>\n",
       "    <tr style=\"text-align: right;\">\n",
       "      <th></th>\n",
       "      <th>date</th>\n",
       "      <th>group</th>\n",
       "      <th>visitors</th>\n",
       "    </tr>\n",
       "  </thead>\n",
       "  <tbody>\n",
       "    <tr>\n",
       "      <th>0</th>\n",
       "      <td>2019-08-01</td>\n",
       "      <td>A</td>\n",
       "      <td>719</td>\n",
       "    </tr>\n",
       "    <tr>\n",
       "      <th>1</th>\n",
       "      <td>2019-08-02</td>\n",
       "      <td>A</td>\n",
       "      <td>619</td>\n",
       "    </tr>\n",
       "    <tr>\n",
       "      <th>2</th>\n",
       "      <td>2019-08-03</td>\n",
       "      <td>A</td>\n",
       "      <td>507</td>\n",
       "    </tr>\n",
       "    <tr>\n",
       "      <th>3</th>\n",
       "      <td>2019-08-04</td>\n",
       "      <td>A</td>\n",
       "      <td>717</td>\n",
       "    </tr>\n",
       "    <tr>\n",
       "      <th>4</th>\n",
       "      <td>2019-08-05</td>\n",
       "      <td>A</td>\n",
       "      <td>756</td>\n",
       "    </tr>\n",
       "  </tbody>\n",
       "</table>\n",
       "</div>"
      ],
      "text/plain": [
       "         date group  visitors\n",
       "0  2019-08-01     A       719\n",
       "1  2019-08-02     A       619\n",
       "2  2019-08-03     A       507\n",
       "3  2019-08-04     A       717\n",
       "4  2019-08-05     A       756"
      ]
     },
     "execution_count": 17,
     "metadata": {},
     "output_type": "execute_result"
    }
   ],
   "source": [
    "visitors.head(5)"
   ]
  },
  {
   "cell_type": "markdown",
   "metadata": {},
   "source": [
    "#### Смотрим типы данных"
   ]
  },
  {
   "cell_type": "code",
   "execution_count": 18,
   "metadata": {},
   "outputs": [
    {
     "name": "stdout",
     "output_type": "stream",
     "text": [
      "<class 'pandas.core.frame.DataFrame'>\n",
      "RangeIndex: 62 entries, 0 to 61\n",
      "Data columns (total 3 columns):\n",
      " #   Column    Non-Null Count  Dtype \n",
      "---  ------    --------------  ----- \n",
      " 0   date      62 non-null     object\n",
      " 1   group     62 non-null     object\n",
      " 2   visitors  62 non-null     int64 \n",
      "dtypes: int64(1), object(2)\n",
      "memory usage: 1.6+ KB\n"
     ]
    }
   ],
   "source": [
    "visitors.info()"
   ]
  },
  {
   "cell_type": "markdown",
   "metadata": {},
   "source": [
    "Необходимо изменить тип колонки date на datetime64."
   ]
  },
  {
   "cell_type": "markdown",
   "metadata": {},
   "source": [
    "#### Проверяем на пропуски"
   ]
  },
  {
   "cell_type": "code",
   "execution_count": 19,
   "metadata": {},
   "outputs": [
    {
     "data": {
      "text/plain": [
       "date        0\n",
       "group       0\n",
       "visitors    0\n",
       "dtype: int64"
      ]
     },
     "execution_count": 19,
     "metadata": {},
     "output_type": "execute_result"
    }
   ],
   "source": [
    "visitors.isna().sum()"
   ]
  },
  {
   "cell_type": "markdown",
   "metadata": {},
   "source": [
    "#### Проверяем на дубликаты"
   ]
  },
  {
   "cell_type": "code",
   "execution_count": 20,
   "metadata": {},
   "outputs": [
    {
     "data": {
      "text/plain": [
       "0"
      ]
     },
     "execution_count": 20,
     "metadata": {},
     "output_type": "execute_result"
    }
   ],
   "source": [
    "visitors.duplicated().sum()"
   ]
  },
  {
   "cell_type": "markdown",
   "metadata": {},
   "source": [
    "_Вывод:_ В таблице visitors необходимо изменить тип колонки date на datetime64. Пропусков и дубликатов нет."
   ]
  },
  {
   "cell_type": "markdown",
   "metadata": {},
   "source": [
    "#### Корректируем таблицу"
   ]
  },
  {
   "cell_type": "code",
   "execution_count": 21,
   "metadata": {},
   "outputs": [],
   "source": [
    "visitors['date'] = visitors['date'].map(\n",
    "    lambda x: dt.datetime.strptime(x, '%Y-%m-%d')\n",
    ")"
   ]
  },
  {
   "cell_type": "code",
   "execution_count": 22,
   "metadata": {
    "scrolled": true
   },
   "outputs": [
    {
     "name": "stdout",
     "output_type": "stream",
     "text": [
      "<class 'pandas.core.frame.DataFrame'>\n",
      "RangeIndex: 62 entries, 0 to 61\n",
      "Data columns (total 3 columns):\n",
      " #   Column    Non-Null Count  Dtype         \n",
      "---  ------    --------------  -----         \n",
      " 0   date      62 non-null     datetime64[ns]\n",
      " 1   group     62 non-null     object        \n",
      " 2   visitors  62 non-null     int64         \n",
      "dtypes: datetime64[ns](1), int64(1), object(1)\n",
      "memory usage: 1.6+ KB\n"
     ]
    }
   ],
   "source": [
    "visitors.info()"
   ]
  },
  {
   "cell_type": "markdown",
   "metadata": {},
   "source": [
    "**_Вывод:_** Мы провели подготовку таблиц orders и visitors. В которых мы изменили форматы некоторых ячеек на datetime64 и изменили названия колонок (привели к одному регистру и добавили \"_ \"). Дубликатов и пропусков нет."
   ]
  },
  {
   "cell_type": "markdown",
   "metadata": {},
   "source": [
    "### Проверка групп на пересечение"
   ]
  },
  {
   "cell_type": "code",
   "execution_count": 23,
   "metadata": {
    "scrolled": true
   },
   "outputs": [
    {
     "name": "stdout",
     "output_type": "stream",
     "text": [
      "Количество пользователей в данных Orders (A): 503\n",
      "Количество пользователей в данных Orders (B): 586\n",
      "Количество пересекающихся пользователей между группами А и B: 58\n"
     ]
    }
   ],
   "source": [
    "visitors_a = set(orders [orders [\"group\"] == \"A\"][\"visitor_id\"].unique ())\n",
    "visitors_b = set(orders[orders [\"group\"] == \"B\"][\"visitor_id\"].unique())\n",
    "visitors_ab = visitors_a.intersection(visitors_b)\n",
    "\n",
    "print (f'Количество пользователей в данных Orders (A): {len(visitors_a)}') \n",
    "print (f'Количество пользователей в данных Orders (B): {len(visitors_b)}')\n",
    "print(f'Количество пересекающихся пользователей между группами А и B: {len (visitors_ab)}')"
   ]
  },
  {
   "cell_type": "markdown",
   "metadata": {},
   "source": [
    "Посчитаем, какой процент от всех пользователей составляют пользователи, входящие в обе группы."
   ]
  },
  {
   "cell_type": "code",
   "execution_count": 24,
   "metadata": {},
   "outputs": [
    {
     "name": "stdout",
     "output_type": "stream",
     "text": [
      "Процент пользователей из обеих групп: 5.625606207565471\n"
     ]
    }
   ],
   "source": [
    "visitors_all = orders['visitor_id'].nunique()\n",
    "print(f'Процент пользователей из обеих групп: {(len(visitors_ab)/visitors_all)*100}')"
   ]
  },
  {
   "cell_type": "markdown",
   "metadata": {},
   "source": [
    "Так как доля пользователей из обеих групп составляет 5,6%, что больше 1%, эти данные могут значительно повлиять на результат и их следует удалить."
   ]
  },
  {
   "cell_type": "code",
   "execution_count": 25,
   "metadata": {},
   "outputs": [],
   "source": [
    "orders = orders[~orders['visitor_id'].isin(visitors_ab)]"
   ]
  },
  {
   "cell_type": "code",
   "execution_count": 26,
   "metadata": {},
   "outputs": [
    {
     "name": "stdout",
     "output_type": "stream",
     "text": [
      "Количество пользователей в данных Orders (A) после удаления: 445\n",
      "Количество пользователей в данных Orders (B) после удаления: 528\n",
      "Количество пересекающихся пользователей между группами А и В после удаления: 0\n"
     ]
    }
   ],
   "source": [
    "visitors_a = set(orders [orders [\"group\"] == \"A\"][\"visitor_id\"].unique ())\n",
    "visitors_b = set(orders[orders [\"group\"] == \"B\"][\"visitor_id\"].unique())\n",
    "visitors_ab = visitors_a.intersection (visitors_b)\n",
    "print (f'Количество пользователей в данных Orders (A) после удаления: {len(visitors_a)}') \n",
    "print (f'Количество пользователей в данных Orders (B) после удаления: {len(visitors_b)}')\n",
    "print(f'Количество пересекающихся пользователей между группами А и В после удаления: {len (visitors_ab)}')"
   ]
  },
  {
   "cell_type": "markdown",
   "metadata": {},
   "source": [
    "**_Вывод:_** мы провели проверку на пересечение групп, в ходе которой выяснилось, что 58 пользователей входят в обе группы. Так как доля пользователей из обеих групп составляет 5,6%, что больше 1%, эти данные могут значительно повлиять на результат. Поэтому мы их удалили."
   ]
  },
  {
   "cell_type": "markdown",
   "metadata": {},
   "source": [
    "### Построим график кумулятивной выручки по группам"
   ]
  },
  {
   "cell_type": "code",
   "execution_count": 27,
   "metadata": {},
   "outputs": [
    {
     "data": {
      "text/html": [
       "<div>\n",
       "<style scoped>\n",
       "    .dataframe tbody tr th:only-of-type {\n",
       "        vertical-align: middle;\n",
       "    }\n",
       "\n",
       "    .dataframe tbody tr th {\n",
       "        vertical-align: top;\n",
       "    }\n",
       "\n",
       "    .dataframe thead th {\n",
       "        text-align: right;\n",
       "    }\n",
       "</style>\n",
       "<table border=\"1\" class=\"dataframe\">\n",
       "  <thead>\n",
       "    <tr style=\"text-align: right;\">\n",
       "      <th></th>\n",
       "      <th>date</th>\n",
       "      <th>group</th>\n",
       "      <th>orders</th>\n",
       "      <th>buyers</th>\n",
       "      <th>revenue</th>\n",
       "      <th>visitors</th>\n",
       "    </tr>\n",
       "  </thead>\n",
       "  <tbody>\n",
       "    <tr>\n",
       "      <th>0</th>\n",
       "      <td>2019-08-01</td>\n",
       "      <td>A</td>\n",
       "      <td>23</td>\n",
       "      <td>19</td>\n",
       "      <td>142779</td>\n",
       "      <td>719</td>\n",
       "    </tr>\n",
       "    <tr>\n",
       "      <th>1</th>\n",
       "      <td>2019-08-01</td>\n",
       "      <td>B</td>\n",
       "      <td>17</td>\n",
       "      <td>17</td>\n",
       "      <td>59758</td>\n",
       "      <td>713</td>\n",
       "    </tr>\n",
       "    <tr>\n",
       "      <th>2</th>\n",
       "      <td>2019-08-02</td>\n",
       "      <td>A</td>\n",
       "      <td>42</td>\n",
       "      <td>36</td>\n",
       "      <td>234381</td>\n",
       "      <td>1338</td>\n",
       "    </tr>\n",
       "    <tr>\n",
       "      <th>3</th>\n",
       "      <td>2019-08-02</td>\n",
       "      <td>B</td>\n",
       "      <td>40</td>\n",
       "      <td>39</td>\n",
       "      <td>221801</td>\n",
       "      <td>1294</td>\n",
       "    </tr>\n",
       "    <tr>\n",
       "      <th>4</th>\n",
       "      <td>2019-08-03</td>\n",
       "      <td>A</td>\n",
       "      <td>66</td>\n",
       "      <td>60</td>\n",
       "      <td>346854</td>\n",
       "      <td>1845</td>\n",
       "    </tr>\n",
       "  </tbody>\n",
       "</table>\n",
       "</div>"
      ],
      "text/plain": [
       "        date group  orders  buyers  revenue  visitors\n",
       "0 2019-08-01     A      23      19   142779       719\n",
       "1 2019-08-01     B      17      17    59758       713\n",
       "2 2019-08-02     A      42      36   234381      1338\n",
       "3 2019-08-02     B      40      39   221801      1294\n",
       "4 2019-08-03     A      66      60   346854      1845"
      ]
     },
     "execution_count": 27,
     "metadata": {},
     "output_type": "execute_result"
    }
   ],
   "source": [
    "datesGroups = orders[['date','group']].drop_duplicates()\n",
    "\n",
    "ordersAggregated = datesGroups.apply(lambda x: orders[np.logical_and(orders['date'] <= x['date'], orders['group'] == x['group'])]. \\\n",
    "                                     agg({'date' : 'max', \n",
    "                                          'group' : 'max', \n",
    "                                          'transaction_id' : pd.Series.nunique, \n",
    "                                          'visitor_id' : pd.Series.nunique, \n",
    "                                          'revenue' : 'sum'}), axis=1).sort_values(by=['date','group'])\n",
    "\n",
    "visitorsAggregated = datesGroups.apply(lambda x: visitors[np.logical_and(visitors['date'] <= x['date'], visitors['group'] == x['group'])]. \\\n",
    "                                       agg({'date' : 'max', \n",
    "                                            'group' : 'max', \n",
    "                                            'visitors' : 'sum'}), axis=1).sort_values(by=['date','group'])\n",
    "\n",
    "cumulativeData = ordersAggregated.merge(visitorsAggregated, left_on=['date', 'group'], right_on=['date', 'group'])\n",
    "cumulativeData.columns = ['date', 'group', 'orders', 'buyers', 'revenue', 'visitors']\n",
    "\n",
    "cumulativeData.head(5)"
   ]
  },
  {
   "cell_type": "code",
   "execution_count": 28,
   "metadata": {},
   "outputs": [
    {
     "data": {
      "image/png": "[encoded data removed]",
      "text/plain": [
       "<Figure size 1500x500 with 1 Axes>"
      ]
     },
     "metadata": {},
     "output_type": "display_data"
    }
   ],
   "source": [
    "cumulativeRevenueA = cumulativeData[cumulativeData['group']=='A'][['date','revenue', 'orders']]\n",
    "cumulativeRevenueB = cumulativeData[cumulativeData['group']=='B'][['date','revenue', 'orders']]\n",
    "\n",
    "plt.figure(figsize=(15,5))\n",
    "\n",
    "plt.plot(cumulativeRevenueA['date'], cumulativeRevenueA['revenue'], label='Группа A')\n",
    "plt.plot(cumulativeRevenueB['date'], cumulativeRevenueB['revenue'], label='Группа B')\n",
    "\n",
    "plt.xlabel('Дата')\n",
    "plt.ylabel('Выручка')\n",
    "plt.title(\"Кумулятивная выручка по группам\")\n",
    "plt.grid()\n",
    "plt.legend() \n",
    "plt.show()"
   ]
  },
  {
   "cell_type": "markdown",
   "metadata": {},
   "source": [
    "_**Вывод:**_ Выручка в группе В в первой половине месяца росла чуть быстрее группы А. Затем, 19.08.2019 выручка в группе В резко поднялась. Скорее всего это связано с большим количеством заказов в этот период или же с крупными заказами."
   ]
  },
  {
   "cell_type": "markdown",
   "metadata": {},
   "source": [
    "Проверим количество заказов в этот день"
   ]
  },
  {
   "cell_type": "code",
   "execution_count": 29,
   "metadata": {},
   "outputs": [
    {
     "data": {
      "text/html": [
       "<div>\n",
       "<style scoped>\n",
       "    .dataframe tbody tr th:only-of-type {\n",
       "        vertical-align: middle;\n",
       "    }\n",
       "\n",
       "    .dataframe tbody tr th {\n",
       "        vertical-align: top;\n",
       "    }\n",
       "\n",
       "    .dataframe thead th {\n",
       "        text-align: right;\n",
       "    }\n",
       "</style>\n",
       "<table border=\"1\" class=\"dataframe\">\n",
       "  <thead>\n",
       "    <tr style=\"text-align: right;\">\n",
       "      <th></th>\n",
       "      <th>date</th>\n",
       "      <th>revenue</th>\n",
       "      <th>orders</th>\n",
       "    </tr>\n",
       "  </thead>\n",
       "  <tbody>\n",
       "    <tr>\n",
       "      <th>1</th>\n",
       "      <td>2019-08-01</td>\n",
       "      <td>59758</td>\n",
       "      <td>17</td>\n",
       "    </tr>\n",
       "    <tr>\n",
       "      <th>3</th>\n",
       "      <td>2019-08-02</td>\n",
       "      <td>221801</td>\n",
       "      <td>40</td>\n",
       "    </tr>\n",
       "    <tr>\n",
       "      <th>5</th>\n",
       "      <td>2019-08-03</td>\n",
       "      <td>288850</td>\n",
       "      <td>54</td>\n",
       "    </tr>\n",
       "    <tr>\n",
       "      <th>7</th>\n",
       "      <td>2019-08-04</td>\n",
       "      <td>385740</td>\n",
       "      <td>68</td>\n",
       "    </tr>\n",
       "    <tr>\n",
       "      <th>9</th>\n",
       "      <td>2019-08-05</td>\n",
       "      <td>475648</td>\n",
       "      <td>89</td>\n",
       "    </tr>\n",
       "    <tr>\n",
       "      <th>11</th>\n",
       "      <td>2019-08-06</td>\n",
       "      <td>690490</td>\n",
       "      <td>112</td>\n",
       "    </tr>\n",
       "    <tr>\n",
       "      <th>13</th>\n",
       "      <td>2019-08-07</td>\n",
       "      <td>909654</td>\n",
       "      <td>135</td>\n",
       "    </tr>\n",
       "    <tr>\n",
       "      <th>15</th>\n",
       "      <td>2019-08-08</td>\n",
       "      <td>1059795</td>\n",
       "      <td>157</td>\n",
       "    </tr>\n",
       "    <tr>\n",
       "      <th>17</th>\n",
       "      <td>2019-08-09</td>\n",
       "      <td>1162961</td>\n",
       "      <td>176</td>\n",
       "    </tr>\n",
       "    <tr>\n",
       "      <th>19</th>\n",
       "      <td>2019-08-10</td>\n",
       "      <td>1268123</td>\n",
       "      <td>198</td>\n",
       "    </tr>\n",
       "    <tr>\n",
       "      <th>21</th>\n",
       "      <td>2019-08-11</td>\n",
       "      <td>1321183</td>\n",
       "      <td>210</td>\n",
       "    </tr>\n",
       "    <tr>\n",
       "      <th>23</th>\n",
       "      <td>2019-08-12</td>\n",
       "      <td>1425237</td>\n",
       "      <td>229</td>\n",
       "    </tr>\n",
       "    <tr>\n",
       "      <th>25</th>\n",
       "      <td>2019-08-13</td>\n",
       "      <td>1542928</td>\n",
       "      <td>249</td>\n",
       "    </tr>\n",
       "    <tr>\n",
       "      <th>27</th>\n",
       "      <td>2019-08-14</td>\n",
       "      <td>1650268</td>\n",
       "      <td>263</td>\n",
       "    </tr>\n",
       "    <tr>\n",
       "      <th>29</th>\n",
       "      <td>2019-08-15</td>\n",
       "      <td>1960427</td>\n",
       "      <td>289</td>\n",
       "    </tr>\n",
       "    <tr>\n",
       "      <th>31</th>\n",
       "      <td>2019-08-16</td>\n",
       "      <td>2074677</td>\n",
       "      <td>307</td>\n",
       "    </tr>\n",
       "    <tr>\n",
       "      <th>33</th>\n",
       "      <td>2019-08-17</td>\n",
       "      <td>2155542</td>\n",
       "      <td>320</td>\n",
       "    </tr>\n",
       "    <tr>\n",
       "      <th>35</th>\n",
       "      <td>2019-08-18</td>\n",
       "      <td>2190865</td>\n",
       "      <td>327</td>\n",
       "    </tr>\n",
       "    <tr>\n",
       "      <th>37</th>\n",
       "      <td>2019-08-19</td>\n",
       "      <td>3620785</td>\n",
       "      <td>348</td>\n",
       "    </tr>\n",
       "    <tr>\n",
       "      <th>39</th>\n",
       "      <td>2019-08-20</td>\n",
       "      <td>3768059</td>\n",
       "      <td>368</td>\n",
       "    </tr>\n",
       "    <tr>\n",
       "      <th>41</th>\n",
       "      <td>2019-08-21</td>\n",
       "      <td>3908406</td>\n",
       "      <td>380</td>\n",
       "    </tr>\n",
       "    <tr>\n",
       "      <th>43</th>\n",
       "      <td>2019-08-22</td>\n",
       "      <td>4050134</td>\n",
       "      <td>401</td>\n",
       "    </tr>\n",
       "    <tr>\n",
       "      <th>45</th>\n",
       "      <td>2019-08-23</td>\n",
       "      <td>4127403</td>\n",
       "      <td>414</td>\n",
       "    </tr>\n",
       "    <tr>\n",
       "      <th>47</th>\n",
       "      <td>2019-08-24</td>\n",
       "      <td>4215269</td>\n",
       "      <td>428</td>\n",
       "    </tr>\n",
       "    <tr>\n",
       "      <th>49</th>\n",
       "      <td>2019-08-25</td>\n",
       "      <td>4294526</td>\n",
       "      <td>440</td>\n",
       "    </tr>\n",
       "    <tr>\n",
       "      <th>51</th>\n",
       "      <td>2019-08-26</td>\n",
       "      <td>4467965</td>\n",
       "      <td>462</td>\n",
       "    </tr>\n",
       "    <tr>\n",
       "      <th>53</th>\n",
       "      <td>2019-08-27</td>\n",
       "      <td>4579312</td>\n",
       "      <td>473</td>\n",
       "    </tr>\n",
       "    <tr>\n",
       "      <th>55</th>\n",
       "      <td>2019-08-28</td>\n",
       "      <td>4640510</td>\n",
       "      <td>495</td>\n",
       "    </tr>\n",
       "    <tr>\n",
       "      <th>57</th>\n",
       "      <td>2019-08-29</td>\n",
       "      <td>4746610</td>\n",
       "      <td>510</td>\n",
       "    </tr>\n",
       "    <tr>\n",
       "      <th>59</th>\n",
       "      <td>2019-08-30</td>\n",
       "      <td>4955833</td>\n",
       "      <td>531</td>\n",
       "    </tr>\n",
       "    <tr>\n",
       "      <th>61</th>\n",
       "      <td>2019-08-31</td>\n",
       "      <td>5068972</td>\n",
       "      <td>548</td>\n",
       "    </tr>\n",
       "  </tbody>\n",
       "</table>\n",
       "</div>"
      ],
      "text/plain": [
       "         date  revenue  orders\n",
       "1  2019-08-01    59758      17\n",
       "3  2019-08-02   221801      40\n",
       "5  2019-08-03   288850      54\n",
       "7  2019-08-04   385740      68\n",
       "9  2019-08-05   475648      89\n",
       "11 2019-08-06   690490     112\n",
       "13 2019-08-07   909654     135\n",
       "15 2019-08-08  1059795     157\n",
       "17 2019-08-09  1162961     176\n",
       "19 2019-08-10  1268123     198\n",
       "21 2019-08-11  1321183     210\n",
       "23 2019-08-12  1425237     229\n",
       "25 2019-08-13  1542928     249\n",
       "27 2019-08-14  1650268     263\n",
       "29 2019-08-15  1960427     289\n",
       "31 2019-08-16  2074677     307\n",
       "33 2019-08-17  2155542     320\n",
       "35 2019-08-18  2190865     327\n",
       "37 2019-08-19  3620785     348\n",
       "39 2019-08-20  3768059     368\n",
       "41 2019-08-21  3908406     380\n",
       "43 2019-08-22  4050134     401\n",
       "45 2019-08-23  4127403     414\n",
       "47 2019-08-24  4215269     428\n",
       "49 2019-08-25  4294526     440\n",
       "51 2019-08-26  4467965     462\n",
       "53 2019-08-27  4579312     473\n",
       "55 2019-08-28  4640510     495\n",
       "57 2019-08-29  4746610     510\n",
       "59 2019-08-30  4955833     531\n",
       "61 2019-08-31  5068972     548"
      ]
     },
     "execution_count": 29,
     "metadata": {},
     "output_type": "execute_result"
    }
   ],
   "source": [
    "cumulativeRevenueB"
   ]
  },
  {
   "cell_type": "markdown",
   "metadata": {},
   "source": [
    "Количество заказов не отличалось резким скачком, значит возможно дело в крупном заказе. Посмотрим заказы в этот день."
   ]
  },
  {
   "cell_type": "code",
   "execution_count": 30,
   "metadata": {},
   "outputs": [
    {
     "data": {
      "text/html": [
       "<div>\n",
       "<style scoped>\n",
       "    .dataframe tbody tr th:only-of-type {\n",
       "        vertical-align: middle;\n",
       "    }\n",
       "\n",
       "    .dataframe tbody tr th {\n",
       "        vertical-align: top;\n",
       "    }\n",
       "\n",
       "    .dataframe thead th {\n",
       "        text-align: right;\n",
       "    }\n",
       "</style>\n",
       "<table border=\"1\" class=\"dataframe\">\n",
       "  <thead>\n",
       "    <tr style=\"text-align: right;\">\n",
       "      <th></th>\n",
       "      <th>transaction_id</th>\n",
       "      <th>visitor_id</th>\n",
       "      <th>date</th>\n",
       "      <th>revenue</th>\n",
       "      <th>group</th>\n",
       "    </tr>\n",
       "  </thead>\n",
       "  <tbody>\n",
       "    <tr>\n",
       "      <th>425</th>\n",
       "      <td>590470918</td>\n",
       "      <td>1920142716</td>\n",
       "      <td>2019-08-19</td>\n",
       "      <td>1294500</td>\n",
       "      <td>B</td>\n",
       "    </tr>\n",
       "    <tr>\n",
       "      <th>530</th>\n",
       "      <td>3970235543</td>\n",
       "      <td>2912540959</td>\n",
       "      <td>2019-08-19</td>\n",
       "      <td>43990</td>\n",
       "      <td>A</td>\n",
       "    </tr>\n",
       "    <tr>\n",
       "      <th>527</th>\n",
       "      <td>1570513684</td>\n",
       "      <td>2837914161</td>\n",
       "      <td>2019-08-19</td>\n",
       "      <td>33405</td>\n",
       "      <td>B</td>\n",
       "    </tr>\n",
       "    <tr>\n",
       "      <th>421</th>\n",
       "      <td>3765974140</td>\n",
       "      <td>1357170471</td>\n",
       "      <td>2019-08-19</td>\n",
       "      <td>31680</td>\n",
       "      <td>A</td>\n",
       "    </tr>\n",
       "    <tr>\n",
       "      <th>461</th>\n",
       "      <td>2683113224</td>\n",
       "      <td>154576532</td>\n",
       "      <td>2019-08-19</td>\n",
       "      <td>26550</td>\n",
       "      <td>B</td>\n",
       "    </tr>\n",
       "    <tr>\n",
       "      <th>368</th>\n",
       "      <td>3268879337</td>\n",
       "      <td>2536252163</td>\n",
       "      <td>2019-08-19</td>\n",
       "      <td>20026</td>\n",
       "      <td>B</td>\n",
       "    </tr>\n",
       "    <tr>\n",
       "      <th>366</th>\n",
       "      <td>2037051350</td>\n",
       "      <td>1957949546</td>\n",
       "      <td>2019-08-19</td>\n",
       "      <td>16770</td>\n",
       "      <td>A</td>\n",
       "    </tr>\n",
       "    <tr>\n",
       "      <th>463</th>\n",
       "      <td>4170537404</td>\n",
       "      <td>290022471</td>\n",
       "      <td>2019-08-19</td>\n",
       "      <td>16480</td>\n",
       "      <td>B</td>\n",
       "    </tr>\n",
       "    <tr>\n",
       "      <th>531</th>\n",
       "      <td>4016435970</td>\n",
       "      <td>4017075195</td>\n",
       "      <td>2019-08-19</td>\n",
       "      <td>13390</td>\n",
       "      <td>A</td>\n",
       "    </tr>\n",
       "    <tr>\n",
       "      <th>318</th>\n",
       "      <td>3412626998</td>\n",
       "      <td>3282099314</td>\n",
       "      <td>2019-08-19</td>\n",
       "      <td>11985</td>\n",
       "      <td>A</td>\n",
       "    </tr>\n",
       "  </tbody>\n",
       "</table>\n",
       "</div>"
      ],
      "text/plain": [
       "     transaction_id  visitor_id       date  revenue group\n",
       "425       590470918  1920142716 2019-08-19  1294500     B\n",
       "530      3970235543  2912540959 2019-08-19    43990     A\n",
       "527      1570513684  2837914161 2019-08-19    33405     B\n",
       "421      3765974140  1357170471 2019-08-19    31680     A\n",
       "461      2683113224   154576532 2019-08-19    26550     B\n",
       "368      3268879337  2536252163 2019-08-19    20026     B\n",
       "366      2037051350  1957949546 2019-08-19    16770     A\n",
       "463      4170537404   290022471 2019-08-19    16480     B\n",
       "531      4016435970  4017075195 2019-08-19    13390     A\n",
       "318      3412626998  3282099314 2019-08-19    11985     A"
      ]
     },
     "execution_count": 30,
     "metadata": {},
     "output_type": "execute_result"
    }
   ],
   "source": [
    "orders.query('date == \"2019-08-19\"').sort_values(by='revenue', ascending=False).head(10)"
   ]
  },
  {
   "cell_type": "markdown",
   "metadata": {},
   "source": [
    "Действительно, в этот день был аномально крупный заказ 425, что и повлияло на резкий скачок выручке в группе В."
   ]
  },
  {
   "cell_type": "markdown",
   "metadata": {},
   "source": [
    "### Построим график кумулятивного среднего чека по группам"
   ]
  },
  {
   "cell_type": "code",
   "execution_count": 31,
   "metadata": {},
   "outputs": [
    {
     "data": {
      "image/png": "[encoded data removed]",
      "text/plain": [
       "<Figure size 1500x500 with 1 Axes>"
      ]
     },
     "metadata": {},
     "output_type": "display_data"
    }
   ],
   "source": [
    "plt.figure(figsize=(15,5))\n",
    "\n",
    "plt.grid()\n",
    "plt.plot(cumulativeRevenueA['date'], cumulativeRevenueA['revenue']/cumulativeRevenueA['orders'], label='Группа A')\n",
    "plt.plot(cumulativeRevenueB['date'], cumulativeRevenueB['revenue']/cumulativeRevenueB['orders'], label='Группа B')\n",
    "plt.xlabel('Дата')\n",
    "plt.ylabel('Средний чек')\n",
    "plt.title(\"Кумулятивный средний чек по группам\")\n",
    "plt.legend() ;"
   ]
  },
  {
   "cell_type": "markdown",
   "metadata": {},
   "source": [
    "_**Вывод:**_ Аналогично графику кумулякотивной выручке наблюдается резкий скачок в группе В 19.08.2019, связанный с аномалией. В первой поломине периода группа В немного преобладала, хотя в некоторые дни группа А опережала группу В по среднему чеку."
   ]
  },
  {
   "cell_type": "markdown",
   "metadata": {},
   "source": [
    "### Построим график относительного изменения кумулятивного среднего чека группы B к группе A"
   ]
  },
  {
   "cell_type": "code",
   "execution_count": 32,
   "metadata": {},
   "outputs": [
    {
     "data": {
      "text/plain": [
       "<matplotlib.lines.Line2D at 0x7f8e863c8040>"
      ]
     },
     "execution_count": 32,
     "metadata": {},
     "output_type": "execute_result"
    },
    {
     "data": {
      "image/png": "[encoded data removed]",
      "text/plain": [
       "<Figure size 1500x500 with 1 Axes>"
      ]
     },
     "metadata": {},
     "output_type": "display_data"
    }
   ],
   "source": [
    "mergedCumulativeRevenue = cumulativeRevenueA.merge(cumulativeRevenueB, left_on='date', right_on='date', how='left', suffixes=['A', 'B'])\n",
    "\n",
    "plt.figure(figsize=(15,5))\n",
    "\n",
    "plt.plot(mergedCumulativeRevenue['date'], (mergedCumulativeRevenue['revenueB']/mergedCumulativeRevenue['ordersB'])/ \\\n",
    "         (mergedCumulativeRevenue['revenueA']/mergedCumulativeRevenue['ordersA'])-1)\n",
    "plt.title('Относительное изменение кумулятивного среднего чека группы B к группе A')\n",
    "plt.xlabel('Дата')\n",
    "plt.ylabel('Различие среднего чека')\n",
    "plt.grid()\n",
    "plt.axhline(y=0, color='black', linestyle='--')"
   ]
  },
  {
   "cell_type": "markdown",
   "metadata": {},
   "source": [
    "_**Вывод:**_ В основном график находится выше 0 и группа В преобладает. Только в период с 12.08.2019 по 18.08.2019 график находится ниже 0 и средний чек группы А был соответственно больше группы В. Аналогично педидущим двум графика наблюдается резкий скачок в группе В 19.08.2019, связанный с аномалией."
   ]
  },
  {
   "cell_type": "markdown",
   "metadata": {},
   "source": [
    "### Построим график кумулятивного среднего количества заказов на посетителя по группам"
   ]
  },
  {
   "cell_type": "code",
   "execution_count": 33,
   "metadata": {},
   "outputs": [
    {
     "data": {
      "image/png": "[encoded data removed]",
      "text/plain": [
       "<Figure size 1500x500 with 1 Axes>"
      ]
     },
     "metadata": {},
     "output_type": "display_data"
    }
   ],
   "source": [
    "cumulativeV_A = cumulativeData[cumulativeData['group']=='A'][['date','orders', 'visitors']]\n",
    "cumulativeV_B = cumulativeData[cumulativeData['group']=='B'][['date','orders', 'visitors']]\n",
    "\n",
    "plt.figure(figsize=(15,5))\n",
    "plt.grid()\n",
    "plt.plot(cumulativeV_A['date'], cumulativeV_A['orders']/cumulativeV_A['visitors'], label='Группа A')\n",
    "plt.plot(cumulativeV_B['date'], cumulativeV_B['orders']/cumulativeV_B['visitors'], label='Группа B')\n",
    "plt.title('Кумулятивное среднее количество заказов на посетителя по группам')\n",
    "plt.xlabel('Дата')\n",
    "plt.ylabel('Среднее количество заказов на посетителя')\n",
    "plt.legend();"
   ]
  },
  {
   "cell_type": "markdown",
   "metadata": {},
   "source": [
    "_**Вывод:**_ В начале выбранного периода среднее количество заказов на посетителя группы А было больше, чем у В. Затем показатель группы А начал резко падать, а группы В наоборот расти. С середины периода среднее количество заказов на посетителя начинает стабилизироваться в обоих группах. В целом, можно сказать, что среднее количество заказов на посетителя группы В больше группы А."
   ]
  },
  {
   "cell_type": "markdown",
   "metadata": {},
   "source": [
    "### Построим график относительного изменения кумулятивного среднего количества заказов на посетителя группы B к группе A."
   ]
  },
  {
   "cell_type": "code",
   "execution_count": 34,
   "metadata": {},
   "outputs": [
    {
     "data": {
      "text/plain": [
       "<matplotlib.lines.Line2D at 0x7f8e86e561f0>"
      ]
     },
     "execution_count": 34,
     "metadata": {},
     "output_type": "execute_result"
    },
    {
     "data": {
      "image/png": "[encoded data removed]",
      "text/plain": [
       "<Figure size 1500x500 with 1 Axes>"
      ]
     },
     "metadata": {},
     "output_type": "display_data"
    }
   ],
   "source": [
    "cumulativeV_A['avg_num_of_orders'] = cumulativeV_A['orders']/cumulativeV_A['visitors']\n",
    "cumulativeV_B['avg_num_of_orders'] = cumulativeV_B['orders']/cumulativeV_B['visitors']\n",
    "\n",
    "mergedCumulativeAv = cumulativeV_A[['date','avg_num_of_orders']].merge(cumulativeV_B[['date','avg_num_of_orders']], \\\n",
    "                                                    left_on='date', right_on='date', how='left', suffixes=['A', 'B'])\n",
    "plt.figure(figsize=(15,5))\n",
    "plt.grid()\n",
    "plt.plot(mergedCumulativeAv['date'], mergedCumulativeAv['avg_num_of_ordersB']/mergedCumulativeAv['avg_num_of_ordersA']-1, label=\"Относительного изменения кумулятивного среднего количества заказов на посетителя группы B к группе A\")\n",
    "\n",
    "plt.title('Относительного изменения кумулятивного среднего количества заказов на посетителя группы B к группе A')\n",
    "plt.xlabel('Дата')\n",
    "plt.ylabel('Среднее количество заказов на посетителя')\n",
    "plt.axhline(y=0, color='black', linestyle='--')\n",
    "plt.axhline(y=0.2, color='grey', linestyle='--')"
   ]
  },
  {
   "cell_type": "markdown",
   "metadata": {},
   "source": [
    "_**Вывод:**_ В начале выбранного периода относительное изменение кумулятовного среднего количество заказов на посетителя группы А было больше, чем у В, хотя замечался скачок 02.08.2019 в сторону группы В, возможно была какая-то акция. Затем лидировать стлала группа В и начиная с середины периода относительное изменение кумулятовного среднего количество заказов на посетителя стабилизировалось при лидерстве группы Б."
   ]
  },
  {
   "cell_type": "markdown",
   "metadata": {},
   "source": [
    "### Построим точечный график количества заказов по пользователям"
   ]
  },
  {
   "cell_type": "code",
   "execution_count": 35,
   "metadata": {},
   "outputs": [
    {
     "name": "stdout",
     "output_type": "stream",
     "text": [
      "     visitor_id  transaction_id\n",
      "908  3967698036               3\n",
      "55    249864742               3\n",
      "478  2108163459               3\n",
      "687  2988190573               3\n",
      "890  3908431265               3\n",
      "138   611059232               3\n",
      "632  2742574263               3\n",
      "157   678354126               2\n",
      "323  1404560065               2\n",
      "452  1985475298               2\n"
     ]
    },
    {
     "data": {
      "image/png": "[encoded data removed]",
      "text/plain": [
       "<Figure size 1500x500 with 1 Axes>"
      ]
     },
     "metadata": {},
     "output_type": "display_data"
    }
   ],
   "source": [
    "ordersByUsers = (\n",
    "    orders.groupby('visitor_id', as_index=False)\n",
    "    .agg({'transaction_id': 'nunique'})\n",
    ")\n",
    "ordersByUsers.columns = ['visitor_id', 'transaction_id']\n",
    "\n",
    "print(ordersByUsers.sort_values(by='transaction_id', ascending=False).head(10))\n",
    "\n",
    "plt.figure(figsize=(15,5))\n",
    "plt.grid()\n",
    "x_values = pd.Series(range(0, len(ordersByUsers)))\n",
    "plt.scatter(x_values, ordersByUsers['transaction_id']) \n",
    "plt.xlabel('Пользователи')\n",
    "plt.ylabel('Количество заказов')\n",
    "plt.title(\"Количество заказов по пользователям\")\n",
    "plt.show()\n"
   ]
  },
  {
   "cell_type": "markdown",
   "metadata": {},
   "source": [
    "_**Вывод:**_ Количества 1 заказа, совершенного пользователем, очень много, а вот 2 и 3 заказов намного меньше. Возможно, это аномалии. Чтобы это проверить необходимо построить 95-й и 99-й перцентили количества заказов на пользователя."
   ]
  },
  {
   "cell_type": "markdown",
   "metadata": {},
   "source": [
    "### Посчитаем 95-й и 99-й перцентили количества заказов на пользователя. Выберем границу для определения аномальных пользователей."
   ]
  },
  {
   "cell_type": "code",
   "execution_count": 36,
   "metadata": {},
   "outputs": [
    {
     "name": "stdout",
     "output_type": "stream",
     "text": [
      "95 и 99 количества заказов на пользователя:  [1. 2.]\n"
     ]
    }
   ],
   "source": [
    "print('95 и 99 количества заказов на пользователя: ', np.percentile(ordersByUsers['transaction_id'], [95, 99])) "
   ]
  },
  {
   "cell_type": "markdown",
   "metadata": {},
   "source": [
    "_**Вывод:**_ Не более 5% пользователей оформляли больше 1 заказа. И 1% пользователей заказывали более 2. То есть, всё, что больше 1- аномалия."
   ]
  },
  {
   "cell_type": "markdown",
   "metadata": {},
   "source": [
    "### Построим точечный график стоимостей заказов"
   ]
  },
  {
   "cell_type": "code",
   "execution_count": 37,
   "metadata": {},
   "outputs": [
    {
     "data": {
      "image/png": "[encoded data removed]",
      "text/plain": [
       "<Figure size 1500x500 with 1 Axes>"
      ]
     },
     "metadata": {},
     "output_type": "display_data"
    }
   ],
   "source": [
    "x_values = pd.Series(range(0,len(orders['revenue'])))\n",
    "plt.figure(figsize=(15,5))\n",
    "plt.grid()\n",
    "plt.title('График стоимостей заказов')\n",
    "plt.xlabel('Пользователи')\n",
    "plt.ylabel('Стоимость заказов')\n",
    "plt.scatter(x_values, orders['revenue'], alpha=0.5);"
   ]
  },
  {
   "cell_type": "markdown",
   "metadata": {},
   "source": [
    "На графике видно две аномалии. Одна более 1.2 млн руб. Вторая около 200 тысяч рыблей. \n",
    "\n",
    "Для большей наглядности построим ещё один график, исключая выбросы, то есть менее 200 тысяч рублей."
   ]
  },
  {
   "cell_type": "code",
   "execution_count": 38,
   "metadata": {},
   "outputs": [
    {
     "data": {
      "image/png": "[encoded data removed]",
      "text/plain": [
       "<Figure size 1500x500 with 1 Axes>"
      ]
     },
     "metadata": {},
     "output_type": "display_data"
    }
   ],
   "source": [
    "orders_filtered = orders[orders['revenue'] < 200000]['revenue']\n",
    "x_values = pd.Series(range(0,len(orders_filtered)))\n",
    "plt.figure(figsize=(15,5))\n",
    "plt.grid()\n",
    "plt.title('График стоимостей заказов')\n",
    "plt.xlabel('Пользователи')\n",
    "plt.ylabel('Стоимость заказов')\n",
    "plt.scatter(x_values, orders_filtered, alpha=0.5);"
   ]
  },
  {
   "cell_type": "markdown",
   "metadata": {},
   "source": [
    "_**Вывод:**_ Были выявлены две аномалии Одна более 1.2 млн руб. Вторая около 200 тысяч рыблей. Все остальные заказы кроме двух аномальных точек не превышают 100 тысяч рублей."
   ]
  },
  {
   "cell_type": "markdown",
   "metadata": {},
   "source": [
    "### Посчитаем 95-й и 99-й перцентили стоимости заказов. Выберем границу для определения аномальных пользователей."
   ]
  },
  {
   "cell_type": "code",
   "execution_count": 39,
   "metadata": {},
   "outputs": [
    {
     "name": "stdout",
     "output_type": "stream",
     "text": [
      "95 и 99 стоимости заказов на пользователя:  [26785. 53904.]\n"
     ]
    }
   ],
   "source": [
    "print('95 и 99 стоимости заказов на пользователя: ', np.percentile(orders['revenue'], [95, 99])) "
   ]
  },
  {
   "cell_type": "markdown",
   "metadata": {},
   "source": [
    "_**Вывод:**_  Не более, чем у 5% пользователей чек дороже 26 785 рублей, и только не более чем у 1% пользователей чек дороже 53 904 рублей. Тогда границей для определения аномальных пользователей будет 26 785 рублей."
   ]
  },
  {
   "cell_type": "markdown",
   "metadata": {},
   "source": [
    "### Посчитаем статистическую значимость различий в среднем количестве заказов на посетителя между группами по «сырым» данным"
   ]
  },
  {
   "cell_type": "markdown",
   "metadata": {},
   "source": [
    "Сформулируем гипотезы. \n",
    "\n",
    "Нулевая: среднее количество заказов на посетителя группы А и В по \"сырым\" данным равно, различий нет.\n",
    "\n",
    "Альтернативная: среднее количество заказов на посетителя группы А и В по \"сырым\" данным не равно, различия есть.\n",
    "\n",
    "α=5% критический уровень статистической значимости.\n",
    "Гля группы В гипотезы аналогичные."
   ]
  },
  {
   "cell_type": "code",
   "execution_count": 40,
   "metadata": {},
   "outputs": [],
   "source": [
    "visitorsADaily = visitors[visitors['group']=='A'][['date', 'visitors']]\n",
    "visitorsADaily.columns = ['date', 'visitorsPerDateA']\n",
    "\n",
    "visitorsACummulative = visitorsADaily.apply(lambda x: visitorsADaily[visitorsADaily['date'] <= x['date']]. \\\n",
    "                                            agg({'date' : 'max', 'visitorsPerDateA' : 'sum'}), axis=1)\n",
    "visitorsACummulative.columns = ['date', 'visitorsCummulativeA']\n",
    "\n",
    "visitorsBDaily = visitors[visitors['group']=='B'][['date', 'visitors']]\n",
    "visitorsBDaily.columns = ['date', 'visitorsPerDateB']\n",
    "\n",
    "visitorsBCummulative = visitorsBDaily.apply(lambda x: visitorsBDaily[visitorsBDaily['date'] <= x['date']]. \\\n",
    "                                            agg({'date' : 'max', 'visitorsPerDateB' : 'sum'}), axis=1)\n",
    "visitorsBCummulative.columns = ['date', 'visitorsCummulativeB']\n",
    "\n",
    "\n",
    "ordersADaily = orders[orders['group']=='A'][['date', 'transaction_id', 'visitor_id', 'revenue']]\\\n",
    "    .groupby('date', as_index=False)\\\n",
    "    .agg({'transaction_id' : pd.Series.nunique, 'revenue' : 'sum'})\n",
    "ordersADaily.columns = ['date', 'ordersPerDateA', 'revenuePerDateA']\n",
    "\n",
    "ordersACummulative = ordersADaily.apply(\n",
    "    lambda x: \\\n",
    "        ordersADaily[ordersADaily['date'] <= x['date']]\\\n",
    "            .agg({\n",
    "                'date' : 'max',\n",
    "                'ordersPerDateA' : 'sum',\n",
    "                'revenuePerDateA' : 'sum'}), axis=1).sort_values(by=['date'])\n",
    "ordersACummulative.columns = ['date', 'ordersCummulativeA', 'revenueCummulativeA']\n",
    "\n",
    "ordersBDaily = orders[orders['group']=='B'][['date', 'transaction_id', 'visitor_id', 'revenue']]\\\n",
    "    .groupby('date', as_index=False)\\\n",
    "    .agg({'transaction_id' : pd.Series.nunique, 'revenue' : 'sum'})\n",
    "ordersBDaily.columns = ['date', 'ordersPerDateB', 'revenuePerDateB']\n",
    "\n",
    "ordersBCummulative = ordersBDaily.apply(\n",
    "    lambda x: \\\n",
    "        ordersBDaily[ordersBDaily['date'] <= x['date']]\\\n",
    "            .agg({\n",
    "                'date' : 'max',\n",
    "                'ordersPerDateB' : 'sum',\n",
    "                'revenuePerDateB' : 'sum'}), axis=1).sort_values(by=['date'])\n",
    "ordersBCummulative.columns = ['date', \n",
    "                              'ordersCummulativeB', \n",
    "                              'revenueCummulativeB']"
   ]
  },
  {
   "cell_type": "code",
   "execution_count": 41,
   "metadata": {},
   "outputs": [],
   "source": [
    "data = ordersADaily.merge(ordersBDaily, left_on='date', right_on='date', how='left')\\\n",
    "    .merge(ordersACummulative, left_on='date', right_on='date', how='left')\\\n",
    "    .merge(ordersBCummulative, left_on='date', right_on='date', how='left')\\\n",
    "    .merge(visitorsADaily, left_on='date', right_on='date', how='left')\\\n",
    "    .merge(visitorsBDaily, left_on='date', right_on='date', how='left')\\\n",
    "    .merge(visitorsACummulative, left_on='date', right_on='date', how='left')\\\n",
    "    .merge(visitorsBCummulative, left_on='date', right_on='date', how='left')"
   ]
  },
  {
   "cell_type": "code",
   "execution_count": 42,
   "metadata": {},
   "outputs": [
    {
     "name": "stdout",
     "output_type": "stream",
     "text": [
      "alpha = 0.05\n",
      "p-value = 0.011\n",
      "Отношение B к A = 0.160\n"
     ]
    }
   ],
   "source": [
    "ordersByUsersA = orders[orders['group']=='A'].groupby('visitor_id', as_index=False).agg({'transaction_id' : pd.Series.nunique})\n",
    "ordersByUsersA.columns = ['user_id', 'orders']\n",
    "\n",
    "ordersByUsersB = orders[orders['group']=='B'].groupby('visitor_id', as_index=False).agg({'transaction_id' : pd.Series.nunique})\n",
    "ordersByUsersB.columns = ['user_id', 'orders']\n",
    "\n",
    "sampleA = pd.concat([ordersByUsersA['orders'],pd.Series(0, index=np.arange(data['visitorsPerDateA'].sum() - len(ordersByUsersA['orders'])), name='orders')],axis=0)\n",
    "\n",
    "sampleB = pd.concat([ordersByUsersB['orders'],pd.Series(0, index=np.arange(data['visitorsPerDateB'].sum() - len(ordersByUsersB['orders'])), name='orders')],axis=0)\n",
    "\n",
    "print(\"alpha =\",0.05)\n",
    "print(\"p-value = {0:.3f}\".format(stats.mannwhitneyu(sampleA, sampleB)[1]))\n",
    "print(\"Отношение B к A = {0:.3f}\".format(sampleB.mean()/sampleA.mean()-1)) "
   ]
  },
  {
   "cell_type": "markdown",
   "metadata": {},
   "source": [
    "_**Вывод:**_ Так как p-value < 0,05, мы отвергаем нулевую гипотизу, которая гласила, что по \"сырым\" данным среднее количество заказов на посетителя группы А и В равно, различий нет. Относительный проигрыш группы A равен 16%"
   ]
  },
  {
   "cell_type": "markdown",
   "metadata": {},
   "source": [
    "### Посчитаем статистическую значимость различий в среднем чеке заказа между группами по «сырым» данным"
   ]
  },
  {
   "cell_type": "markdown",
   "metadata": {},
   "source": [
    "Сформулируем гипотезы. \n",
    "\n",
    "Нулевая: средний чек заказа группы А и В по \"сырым\" данным равно, различий нет.\n",
    "\n",
    "Альтернативная: средний чек заказа на посетителя группы А и В по \"сырым\" данным не равно, различия есть.\n",
    "\n",
    "α=5% критический уровень статистической значимости.\n",
    "Гля группы В гипотезы аналогичные."
   ]
  },
  {
   "cell_type": "code",
   "execution_count": 43,
   "metadata": {},
   "outputs": [
    {
     "name": "stdout",
     "output_type": "stream",
     "text": [
      "alpha = 0.05\n",
      "p-value = 0.829\n",
      "Отношение B к A = 0.287\n"
     ]
    }
   ],
   "source": [
    "print(\"alpha =\",0.05)\n",
    "print(\"p-value = {0:.3f}\".format(stats.mannwhitneyu(orders[orders['group']=='A']['revenue'], orders[orders['group']=='B']['revenue'])[1]))\n",
    "print(\"Отношение B к A = {0:.3f}\".format(orders[orders['group']=='B']['revenue'].mean()/orders[orders['group']=='A']['revenue'].mean()-1)) "
   ]
  },
  {
   "cell_type": "markdown",
   "metadata": {},
   "source": [
    "_**Вывод:**_ Так как p-value > 0,05, мы принимаем нулевую гипотизу, которая гласила, что по \"сырым\" данным средние чеки заказа группы А и В равны, различий нет. Средний чек группы В больше, чем у А на 28%. Возможно, дело в выбросах."
   ]
  },
  {
   "cell_type": "markdown",
   "metadata": {},
   "source": [
    "### Посчитаем статистическую значимость различий в среднем количестве заказов на посетителя между группами по «очищенным» данным"
   ]
  },
  {
   "cell_type": "markdown",
   "metadata": {},
   "source": [
    "Сформулируем гипотезы. \n",
    "\n",
    "Нулевая: среднее количество заказов на посетителя группы А и В по \"очищенным\" данным равно, различий нет.\n",
    "\n",
    "Альтернативная: среднее количество заказов на посетителя группы А и В по \"очищенным\" данным не равно, различия есть.\n",
    "\n",
    "α=5% критический уровень статистической значимости.\n",
    "Гля группы В гипотезы аналогичные."
   ]
  },
  {
   "cell_type": "markdown",
   "metadata": {},
   "source": [
    "Вспомним, что мы берем за аномалии количество заказов больше 1 и стоимость заказа больше 26 785 рублей."
   ]
  },
  {
   "cell_type": "code",
   "execution_count": 44,
   "metadata": {},
   "outputs": [
    {
     "name": "stdout",
     "output_type": "stream",
     "text": [
      "568     113298937\n",
      "1099    148427295\n",
      "928     204675465\n",
      "33      249864742\n",
      "684     358944393\n",
      "dtype: int64\n",
      "Всего аномальных пользователей = 86\n"
     ]
    }
   ],
   "source": [
    "usersWithManyOrders = pd.concat([ordersByUsersA[ordersByUsersA['orders'] > 1]['user_id'], ordersByUsersB[ordersByUsersB['orders'] > 1]['user_id']], axis = 0)\n",
    "usersWithExpensiveOrders = orders[orders['revenue'] > 26785]['visitor_id']\n",
    "abnormal_users = pd.concat([usersWithManyOrders, usersWithExpensiveOrders], axis = 0).drop_duplicates().sort_values()\n",
    "print(abnormal_users.head(5))\n",
    "print(\"Всего аномальных пользователей =\" ,len(abnormal_users)) \n"
   ]
  },
  {
   "cell_type": "code",
   "execution_count": 45,
   "metadata": {},
   "outputs": [],
   "source": [
    "sampleAFiltered = pd.concat([ordersByUsersA[np.logical_not(ordersByUsersA['user_id'].isin(abnormal_users))]['orders'], \\\n",
    "                             pd.Series(0, index=np.arange(data['visitorsPerDateA'].sum() - len(ordersByUsersA['orders'])), \\\n",
    "                                       name='orders')],axis=0)\n",
    "\n",
    "sampleBFiltered = pd.concat([ordersByUsersB[np.logical_not(ordersByUsersB['user_id'].isin(abnormal_users))]['orders'], \\\n",
    "                             pd.Series(0, index=np.arange(data['visitorsPerDateB'].sum() - len(ordersByUsersB['orders'])), \\\n",
    "                                       name='orders')],axis=0) "
   ]
  },
  {
   "cell_type": "code",
   "execution_count": 46,
   "metadata": {},
   "outputs": [
    {
     "name": "stdout",
     "output_type": "stream",
     "text": [
      "alpha = 0.05\n",
      "p-value = 0.016\n",
      "Отношение B к A = 0.174\n"
     ]
    }
   ],
   "source": [
    "print(\"alpha =\",0.05)\n",
    "print(\"p-value = {0:.3f}\".format(stats.mannwhitneyu(sampleAFiltered, sampleBFiltered)[1]))\n",
    "print(\"Отношение B к A = {0:.3f}\".format(sampleBFiltered.mean()/sampleAFiltered.mean()-1)) "
   ]
  },
  {
   "cell_type": "markdown",
   "metadata": {},
   "source": [
    "_**Вывод:**_ Так как p-value < 0,05, оно практически не изменилось, мы отвергаем нулевую гипотизу, которая гласила, что по \"очищенным\" данным среднее количество заказов на посетителя группы А и В равно, различий нет. Относительный проигрыш группы A равен 17,4%. Относительный проигрыш практически не изменился."
   ]
  },
  {
   "cell_type": "markdown",
   "metadata": {},
   "source": [
    "### Посчитаем статистическую значимость различий в среднем чеке заказа между группами по «очищенным» данным"
   ]
  },
  {
   "cell_type": "markdown",
   "metadata": {},
   "source": [
    "Сформулируем гипотезы. \n",
    "\n",
    "Нулевая: средний чек заказа группы А и В по \"очищенным\" данным равно, различий нет.\n",
    "\n",
    "Альтернативная: средний чек заказа на посетителя группы А и В по \"очищенным\" данным не равно, различия есть.\n",
    "\n",
    "α=5% критический уровень статистической значимости.\n",
    "Гля группы В гипотезы аналогичные."
   ]
  },
  {
   "cell_type": "code",
   "execution_count": 47,
   "metadata": {},
   "outputs": [
    {
     "name": "stdout",
     "output_type": "stream",
     "text": [
      "alpha = 0.05\n",
      "p-value = 0.727\n",
      "Отношение B к A = -0.034\n"
     ]
    }
   ],
   "source": [
    "print(\"alpha =\",0.05)\n",
    "print(\"p-value = {0:.3f}\".format(stats.mannwhitneyu(\n",
    "    orders[np.logical_and(\n",
    "        orders['group']=='A',\n",
    "        np.logical_not(orders['visitor_id'].isin(abnormal_users)))]['revenue'],\n",
    "    orders[np.logical_and(\n",
    "        orders['group']=='B',\n",
    "        np.logical_not(orders['visitor_id'].isin(abnormal_users)))]['revenue'])[1]))\n",
    "\n",
    "print(\"Отношение B к A = {0:.3f}\".format(\n",
    "    orders[np.logical_and(orders['group']=='B',np.logical_not(orders['visitor_id'].isin(abnormal_users)))]['revenue'].mean()/\n",
    "    orders[np.logical_and(\n",
    "        orders['group']=='A',\n",
    "        np.logical_not(orders['visitor_id'].isin(abnormal_users)))]['revenue'].mean() - 1)) "
   ]
  },
  {
   "cell_type": "markdown",
   "metadata": {},
   "source": [
    "_**Вывод:**_ Так как p-value > 0,05, оно незначительно упало, мы принимаем нулевую гипотизу, которая гласила, что по \"очищенным\" данным средние чеки заказа группы А и В равны, различий нет. Средний чек группы В меньше, чем у А на 3,4%. При \"сырых\" данных средний чек группы В был выше А на 28%. Такая разница возникла из-за выбросов, который мы исключили, когда \"очистили\" данные."
   ]
  },
  {
   "cell_type": "markdown",
   "metadata": {},
   "source": [
    "### Примем решение по результатам теста и объясните его. \n",
    "\n",
    "Варианты решений:\n",
    "1. Остановить тест, зафиксировать победу одной из групп.\n",
    "2. Остановить тест, зафиксировать отсутствие различий между группами.\n",
    "3. Продолжить тест."
   ]
  },
  {
   "cell_type": "markdown",
   "metadata": {},
   "source": [
    "После выполения тестирований можно сказать, что по \"сырым\" и \"очищенным\" дынным среднее количество заказов на посетителя группы А и В не равно. При этом относительный проигрыш группы А составляет примерно 17%. А вот средний чек по результатам тестирования не различается. При этом группа В проигрывает всего примерно на 2% по \"очищенным\" данным (по \"сырым\" данным выигрыш группы В составлял 28% из-за аномалий). Исходя из проведенных тестов можно принять решение, что группа В одержалал победу и остановить тест."
   ]
  },
  {
   "cell_type": "markdown",
   "metadata": {},
   "source": [
    "### Итоговый вывод"
   ]
  },
  {
   "cell_type": "markdown",
   "metadata": {},
   "source": [
    "Таким образом, в ходе работы мы провели подготовку таблицы hypothesis. Выяснили, что в ней нет дубликатов и повторов, привели названия колонок к одному регистру. Применили фреймворки ICE и RICE. При применении фреймворка ICE приотизация была: 8, 0, 7. А при применении фреймворка RICE 7, 2, 0. Отличия в топах методов связано с тем, что фреймворк RICE учитывает параметр Reach, который показывает охват пользователей, которых заденет измененние. В фреймворке ICE этот параметр не учитывается.\n",
    "\n",
    "Затем провели подготовку таблиц orders и visitors. В которых мы изменили форматы некоторых ячеек на datetime64 и изменили названия колонок (привели к одному регистру и добавили \"_\").\n",
    "\n",
    "Далее, мы провели проверку на пересечение групп, в ходе которой выяснилось, что 58 пользователей входят в обе группы. Так как доля пользователей из обеих групп составляет 5,6%, что больше 1%, эти данные могут значительно повлиять на результат. Поэтому мы их удалили.\n",
    "\n",
    "Построили график кумулятивной выручки по группам.Выручка в группе В в первой половине месяца росла чуть быстрее группы А. Затем, 19.08.2019 выручка в группе В резко поднялась, что связано с аномалией.\n",
    "\n",
    "Построили график кумулятивного среднего чека по группам.Аналогично графику кумулякотивной выручке наблюдается резкий скачок в группе В 19.08.2019, связанный с аномалией. В первой поломине периода группа В немного преобладала, хотя в некоторые дни группа А опережала группу В по среднему чеку.\n",
    "\n",
    "Построили график относительного изменения кумулятивного среднего чека группы B к группе A. В основном график находится выше 0 и группа В преобладает. Только в период с 12.08.2019 по 18.08.2019 график находится ниже 0 и средний чек группы А был соответственно больше группы В. Аналогично педидущим двум графика наблюдается резкий скачок в группе В 19.08.2019, связанный с аномалией.\n",
    "\n",
    "Построили график кумулятивного среднего количества заказов на посетителя по группам. В начале выбранного периода среднее количество заказов на посетителя группы А было больше, чем у В. Затем показатель группы А начал резко падать, а группы В наоборот расти. С середины периода среднее количество заказов на посетителя начинает стабилизироваться в обоих группах. В целом, можно сказать, что среднее количество заказов на посетителя группы В больше группы А.\n",
    "\n",
    "Построили график относительного изменения кумулятивного среднего количества заказов на посетителя группы B к группе A. В начале выбранного периода относительное изменение кумулятовного среднего количество заказов на посетителя группы А было больше, чем у В, хотя замечался скачок 02.08.2019 в сторону группы В, возможно была какая-то акция. Затем лидировать стлала группа В и начиная с середины периода относительное изменение кумулятовного среднего количество заказов на посетителя стабилизировалось при лидерстве группы Б.\n",
    "\n",
    "Построили точечный график количества заказов по пользователям. Не более 5% пользователей оформляли больше 1 заказа. И 1% пользователей заказывали более 2. То есть, всё, что больше 1- аномалия.\n",
    "\n",
    "Посчитали 95-й и 99-й перцентили количества заказов на пользователя. Были выявлены две аномалии Одна более 1.2 млн руб. Вторая около 200 тысяч рыблей. Все остальные заказы кроме двух аномальных точек не превышают 100 тысяч рублей.\n",
    "\n",
    "Построили точечный график стоимостей заказов. Были выявлены две аномалии Одна более 1.2 млн руб. Вторая около 200 тысяч рыблей. Все остальные заказы кроме двух аномальных точек не превышают 100 тысяч рублей.\n",
    "\n",
    "Посчитали 95-й и 99-й перцентили стоимости заказов. Не более, чем у 5% пользователей чек дороже 26 785 рублей, и только не более чем у 1% пользователей чек дороже 53 904 рублей. Тогда границей для определения аномальных пользователей будет 26 785 рублей.\n",
    "\n",
    "Посчитали статистическую значимость различий в среднем количестве заказов на посетителя между группами по «сырым» данным. Так как p-value < 0,05, мы отвергаем нулевую гипотизу, которая гласила, что по \"сырым\" данным среднее количество заказов на посетителя группы А и В равно, различий нет. Относительный проигрыш группы A равен 16%\n",
    "\n",
    "Посчитали статистическую значимость различий в среднем чеке заказа между группами по «сырым» данным. Так как p-value > 0,05, мы принимаем нулевую гипотизу, которая гласила, что по \"сырым\" данным средние чеки заказа группы А и В равны, различий нет. Средний чек группы В больше, чем у А на 28%. Возможно, дело в выбросах.\n",
    "\n",
    "Посчитали статистическую значимость различий в среднем количестве заказов на посетителя между группами по «очищенным» данным. ак как p-value < 0,05, оно практически не изменилось, мы отвергаем нулевую гипотизу, которая гласила, что по \"очищенным\" данным среднее количество заказов на посетителя группы А и В равно, различий нет. Относительный проигрыш группы A равен 17,4%. Относительный проигрыш практически не изменился. \n",
    "\n",
    "Посчитайте статистическую значимость различий в среднем чеке заказа между группами по «очищенным» данным. Так как p-value > 0,05, оно незначительно упало, мы принимаем нулевую гипотизу, которая гласила, что по \"очищенным\" данным средние чеки заказа группы А и В равны, различий нет. Средний чек группы В меньше, чем у А на 3,4%. При \"сырых\" данных средний чек группы В был выше А на 28%. Такая разница возникла из-за выбросов, который мы исключили, когда \"очистили\" данные.\n",
    "\n",
    "Приняли решение по результатам теста и объясните его. Остановить тест, зафиксировать победу одной из групп. После выполения тестирований можно сказать, что по \"сырым\" и \"очищенным\" дынным среднее количество заказов на посетителя группы А и В не равно. При этом относительный проигрыш группы А составляет примерно 17%. А вот средний чек по результатам тестирования не различается. При этом группа В проигрывает всего примерно на 2% по \"очищенным\" данным (по \"сырым\" данным выигрыш группы В составлял 28% из-за аномалий). Исходя из проведенных тестов можно принять решение, что группа В одержалал победу и остановить тест."
   ]
  }
 ],
 "metadata": {
  "ExecuteTimeLog": [
   {
    "duration": 56,
    "start_time": "2023-05-20T05:41:01.136Z"
   },
   {
    "duration": 1267,
    "start_time": "2023-05-20T05:52:21.506Z"
   },
   {
    "duration": 226,
    "start_time": "2023-05-20T05:53:02.420Z"
   },
   {
    "duration": 3,
    "start_time": "2023-05-20T05:54:26.975Z"
   },
   {
    "duration": 11,
    "start_time": "2023-05-20T05:56:02.510Z"
   },
   {
    "duration": 15,
    "start_time": "2023-05-20T05:58:00.418Z"
   },
   {
    "duration": 8,
    "start_time": "2023-05-20T05:58:24.751Z"
   },
   {
    "duration": 8,
    "start_time": "2023-05-20T05:58:28.538Z"
   },
   {
    "duration": 6,
    "start_time": "2023-05-20T05:59:15.391Z"
   },
   {
    "duration": 5,
    "start_time": "2023-05-20T05:59:27.114Z"
   },
   {
    "duration": 9,
    "start_time": "2023-05-20T06:02:35.015Z"
   },
   {
    "duration": 11,
    "start_time": "2023-05-20T06:02:41.761Z"
   },
   {
    "duration": 7,
    "start_time": "2023-05-20T06:03:37.401Z"
   },
   {
    "duration": 5,
    "start_time": "2023-05-20T06:03:45.809Z"
   },
   {
    "duration": 95,
    "start_time": "2023-05-20T07:07:21.968Z"
   },
   {
    "duration": 6,
    "start_time": "2023-05-20T07:07:29.490Z"
   },
   {
    "duration": 10,
    "start_time": "2023-05-20T07:07:34.638Z"
   },
   {
    "duration": 15,
    "start_time": "2023-05-20T07:13:50.327Z"
   },
   {
    "duration": 4,
    "start_time": "2023-05-20T07:14:14.746Z"
   },
   {
    "duration": 12,
    "start_time": "2023-05-20T07:14:29.519Z"
   },
   {
    "duration": 9,
    "start_time": "2023-05-20T07:14:34.379Z"
   },
   {
    "duration": 15,
    "start_time": "2023-05-20T07:14:37.989Z"
   },
   {
    "duration": 15,
    "start_time": "2023-05-20T07:16:18.755Z"
   },
   {
    "duration": 13,
    "start_time": "2023-05-20T07:16:24.944Z"
   },
   {
    "duration": 10,
    "start_time": "2023-05-20T07:16:40.154Z"
   },
   {
    "duration": 11,
    "start_time": "2023-05-20T07:19:03.509Z"
   },
   {
    "duration": 11,
    "start_time": "2023-05-20T07:48:53.648Z"
   },
   {
    "duration": 11,
    "start_time": "2023-05-20T07:49:13.712Z"
   },
   {
    "duration": 8,
    "start_time": "2023-05-20T08:13:21.733Z"
   },
   {
    "duration": 10,
    "start_time": "2023-05-20T08:13:25.957Z"
   },
   {
    "duration": 8,
    "start_time": "2023-05-20T08:13:34.340Z"
   },
   {
    "duration": 6,
    "start_time": "2023-05-20T08:13:37.693Z"
   },
   {
    "duration": 5,
    "start_time": "2023-05-20T08:13:49.729Z"
   },
   {
    "duration": 14,
    "start_time": "2023-05-20T08:13:50.065Z"
   },
   {
    "duration": 619,
    "start_time": "2023-05-20T08:19:44.537Z"
   },
   {
    "duration": 0,
    "start_time": "2023-05-20T08:19:45.158Z"
   },
   {
    "duration": 14,
    "start_time": "2023-05-20T08:19:45.266Z"
   },
   {
    "duration": 1397,
    "start_time": "2023-05-20T08:19:59.827Z"
   },
   {
    "duration": 134,
    "start_time": "2023-05-20T08:20:01.227Z"
   },
   {
    "duration": 40,
    "start_time": "2023-05-20T08:20:01.363Z"
   },
   {
    "duration": 84,
    "start_time": "2023-05-20T08:20:01.407Z"
   },
   {
    "duration": 86,
    "start_time": "2023-05-20T08:20:01.502Z"
   },
   {
    "duration": 110,
    "start_time": "2023-05-20T08:20:01.590Z"
   },
   {
    "duration": 171,
    "start_time": "2023-05-20T08:20:01.702Z"
   },
   {
    "duration": 106,
    "start_time": "2023-05-20T08:20:01.875Z"
   },
   {
    "duration": 103,
    "start_time": "2023-05-20T08:20:01.983Z"
   },
   {
    "duration": 37,
    "start_time": "2023-05-20T08:20:02.089Z"
   },
   {
    "duration": 113,
    "start_time": "2023-05-20T08:20:02.129Z"
   },
   {
    "duration": 50,
    "start_time": "2023-05-20T08:20:02.251Z"
   },
   {
    "duration": 75,
    "start_time": "2023-05-20T08:20:02.314Z"
   },
   {
    "duration": 88,
    "start_time": "2023-05-20T08:20:02.393Z"
   },
   {
    "duration": 83,
    "start_time": "2023-05-20T08:20:02.485Z"
   },
   {
    "duration": 39,
    "start_time": "2023-05-20T08:20:02.570Z"
   },
   {
    "duration": 78,
    "start_time": "2023-05-20T08:20:02.612Z"
   },
   {
    "duration": 95,
    "start_time": "2023-05-20T08:20:02.692Z"
   },
   {
    "duration": 62,
    "start_time": "2023-05-20T08:20:02.789Z"
   },
   {
    "duration": 13,
    "start_time": "2023-05-20T08:20:02.853Z"
   },
   {
    "duration": 13,
    "start_time": "2023-05-20T08:20:02.868Z"
   },
   {
    "duration": 74,
    "start_time": "2023-05-20T08:20:02.883Z"
   },
   {
    "duration": 25,
    "start_time": "2023-05-20T08:20:02.959Z"
   },
   {
    "duration": 4,
    "start_time": "2023-05-20T08:20:25.451Z"
   },
   {
    "duration": 4,
    "start_time": "2023-05-20T08:20:27.850Z"
   },
   {
    "duration": 19,
    "start_time": "2023-05-20T08:21:07.911Z"
   },
   {
    "duration": 4,
    "start_time": "2023-05-20T08:27:06.322Z"
   },
   {
    "duration": 482,
    "start_time": "2023-05-20T08:30:14.423Z"
   },
   {
    "duration": 6,
    "start_time": "2023-05-20T08:30:24.827Z"
   },
   {
    "duration": 9,
    "start_time": "2023-05-20T08:30:32.978Z"
   },
   {
    "duration": 9,
    "start_time": "2023-05-20T08:30:49.056Z"
   },
   {
    "duration": 198,
    "start_time": "2023-05-20T08:31:29.952Z"
   },
   {
    "duration": 217,
    "start_time": "2023-05-20T08:31:38.243Z"
   },
   {
    "duration": 83,
    "start_time": "2023-05-20T08:31:59.838Z"
   },
   {
    "duration": 6,
    "start_time": "2023-05-20T08:32:17.328Z"
   },
   {
    "duration": 10,
    "start_time": "2023-05-20T08:32:41.982Z"
   },
   {
    "duration": 7,
    "start_time": "2023-05-20T08:38:03.672Z"
   },
   {
    "duration": 5,
    "start_time": "2023-05-20T08:38:11.448Z"
   },
   {
    "duration": 2447,
    "start_time": "2023-05-20T08:38:31.034Z"
   },
   {
    "duration": 1250,
    "start_time": "2023-05-20T08:39:00.390Z"
   },
   {
    "duration": 940,
    "start_time": "2023-05-20T08:39:31.778Z"
   },
   {
    "duration": 5,
    "start_time": "2023-05-20T08:40:50.361Z"
   },
   {
    "duration": 10,
    "start_time": "2023-05-20T08:41:27.382Z"
   },
   {
    "duration": 5,
    "start_time": "2023-05-20T08:41:45.875Z"
   },
   {
    "duration": 10,
    "start_time": "2023-05-20T08:41:47.926Z"
   },
   {
    "duration": 11,
    "start_time": "2023-05-20T08:42:12.492Z"
   },
   {
    "duration": 1158,
    "start_time": "2023-05-20T08:42:47.089Z"
   },
   {
    "duration": 112,
    "start_time": "2023-05-20T08:42:48.249Z"
   },
   {
    "duration": 14,
    "start_time": "2023-05-20T08:42:48.363Z"
   },
   {
    "duration": 12,
    "start_time": "2023-05-20T08:42:48.379Z"
   },
   {
    "duration": 52,
    "start_time": "2023-05-20T08:42:48.393Z"
   },
   {
    "duration": 8,
    "start_time": "2023-05-20T08:42:48.447Z"
   },
   {
    "duration": 24,
    "start_time": "2023-05-20T08:42:48.457Z"
   },
   {
    "duration": 14,
    "start_time": "2023-05-20T08:42:48.483Z"
   },
   {
    "duration": 51,
    "start_time": "2023-05-20T08:42:48.499Z"
   },
   {
    "duration": 17,
    "start_time": "2023-05-20T08:42:48.552Z"
   },
   {
    "duration": 13,
    "start_time": "2023-05-20T08:42:48.571Z"
   },
   {
    "duration": 56,
    "start_time": "2023-05-20T08:42:48.585Z"
   },
   {
    "duration": 20,
    "start_time": "2023-05-20T08:42:48.643Z"
   },
   {
    "duration": 16,
    "start_time": "2023-05-20T08:42:48.666Z"
   },
   {
    "duration": 16,
    "start_time": "2023-05-20T08:42:48.684Z"
   },
   {
    "duration": 55,
    "start_time": "2023-05-20T08:42:48.701Z"
   },
   {
    "duration": 11,
    "start_time": "2023-05-20T08:42:48.758Z"
   },
   {
    "duration": 12,
    "start_time": "2023-05-20T08:42:48.771Z"
   },
   {
    "duration": 21,
    "start_time": "2023-05-20T08:42:48.785Z"
   },
   {
    "duration": 40,
    "start_time": "2023-05-20T08:42:48.807Z"
   },
   {
    "duration": 6,
    "start_time": "2023-05-20T08:42:48.849Z"
   },
   {
    "duration": 14,
    "start_time": "2023-05-20T08:42:48.856Z"
   },
   {
    "duration": 22,
    "start_time": "2023-05-20T08:42:48.871Z"
   },
   {
    "duration": 5,
    "start_time": "2023-05-20T08:42:55.937Z"
   },
   {
    "duration": 5,
    "start_time": "2023-05-20T08:43:15.516Z"
   },
   {
    "duration": 5,
    "start_time": "2023-05-20T08:45:48.149Z"
   },
   {
    "duration": 10,
    "start_time": "2023-05-20T08:47:45.092Z"
   },
   {
    "duration": 9,
    "start_time": "2023-05-20T08:47:46.839Z"
   },
   {
    "duration": 7,
    "start_time": "2023-05-20T08:51:10.963Z"
   },
   {
    "duration": 152,
    "start_time": "2023-05-20T09:04:14.359Z"
   },
   {
    "duration": 430,
    "start_time": "2023-05-20T09:10:10.734Z"
   },
   {
    "duration": 408,
    "start_time": "2023-05-20T09:10:11.570Z"
   },
   {
    "duration": 12,
    "start_time": "2023-05-20T09:25:36.057Z"
   },
   {
    "duration": 309,
    "start_time": "2023-05-20T09:26:15.329Z"
   },
   {
    "duration": 101,
    "start_time": "2023-05-20T09:27:10.773Z"
   },
   {
    "duration": 90,
    "start_time": "2023-05-20T09:28:09.273Z"
   },
   {
    "duration": 20,
    "start_time": "2023-05-20T09:29:08.220Z"
   },
   {
    "duration": 28,
    "start_time": "2023-05-20T09:29:11.343Z"
   },
   {
    "duration": 15,
    "start_time": "2023-05-20T09:29:17.346Z"
   },
   {
    "duration": 303,
    "start_time": "2023-05-20T09:31:14.065Z"
   },
   {
    "duration": 290,
    "start_time": "2023-05-20T09:32:21.240Z"
   },
   {
    "duration": 367,
    "start_time": "2023-05-20T09:32:35.742Z"
   },
   {
    "duration": 282,
    "start_time": "2023-05-20T09:32:57.053Z"
   },
   {
    "duration": 285,
    "start_time": "2023-05-20T09:33:08.238Z"
   },
   {
    "duration": 312,
    "start_time": "2023-05-20T09:33:54.823Z"
   },
   {
    "duration": 454,
    "start_time": "2023-05-20T09:34:16.140Z"
   },
   {
    "duration": 335,
    "start_time": "2023-05-20T09:34:29.827Z"
   },
   {
    "duration": 301,
    "start_time": "2023-05-20T09:34:35.716Z"
   },
   {
    "duration": 314,
    "start_time": "2023-05-20T09:34:49.649Z"
   },
   {
    "duration": 296,
    "start_time": "2023-05-20T09:35:11.450Z"
   },
   {
    "duration": 326,
    "start_time": "2023-05-20T09:35:19.263Z"
   },
   {
    "duration": 385,
    "start_time": "2023-05-20T09:41:35.693Z"
   },
   {
    "duration": 379,
    "start_time": "2023-05-20T09:43:16.583Z"
   },
   {
    "duration": 363,
    "start_time": "2023-05-20T09:44:16.724Z"
   },
   {
    "duration": 26,
    "start_time": "2023-05-20T10:04:59.009Z"
   },
   {
    "duration": 208,
    "start_time": "2023-05-20T10:14:40.462Z"
   },
   {
    "duration": 57,
    "start_time": "2023-05-20T10:17:26.458Z"
   },
   {
    "duration": 186,
    "start_time": "2023-05-20T10:18:53.573Z"
   },
   {
    "duration": 1910,
    "start_time": "2023-05-20T10:19:04.978Z"
   },
   {
    "duration": 1615,
    "start_time": "2023-05-20T10:21:38.747Z"
   },
   {
    "duration": 310,
    "start_time": "2023-05-20T10:22:05.119Z"
   },
   {
    "duration": 326,
    "start_time": "2023-05-20T10:23:24.119Z"
   },
   {
    "duration": 1119,
    "start_time": "2023-05-20T10:41:34.356Z"
   },
   {
    "duration": 323,
    "start_time": "2023-05-20T10:44:41.131Z"
   },
   {
    "duration": 320,
    "start_time": "2023-05-20T10:46:43.923Z"
   },
   {
    "duration": 355,
    "start_time": "2023-05-20T10:47:25.286Z"
   },
   {
    "duration": 438,
    "start_time": "2023-05-20T11:32:15.491Z"
   },
   {
    "duration": 26,
    "start_time": "2023-05-20T11:40:15.153Z"
   },
   {
    "duration": 150,
    "start_time": "2023-05-20T11:40:56.955Z"
   },
   {
    "duration": 195,
    "start_time": "2023-05-20T11:41:40.836Z"
   },
   {
    "duration": 204,
    "start_time": "2023-05-20T11:41:56.259Z"
   },
   {
    "duration": 342,
    "start_time": "2023-05-20T11:42:20.239Z"
   },
   {
    "duration": 1523,
    "start_time": "2023-05-20T11:42:43.050Z"
   },
   {
    "duration": 113,
    "start_time": "2023-05-20T11:42:44.575Z"
   },
   {
    "duration": 17,
    "start_time": "2023-05-20T11:42:44.690Z"
   },
   {
    "duration": 65,
    "start_time": "2023-05-20T11:42:44.709Z"
   },
   {
    "duration": 11,
    "start_time": "2023-05-20T11:42:44.778Z"
   },
   {
    "duration": 75,
    "start_time": "2023-05-20T11:42:44.790Z"
   },
   {
    "duration": 19,
    "start_time": "2023-05-20T11:42:44.867Z"
   },
   {
    "duration": 83,
    "start_time": "2023-05-20T11:42:44.888Z"
   },
   {
    "duration": 12,
    "start_time": "2023-05-20T11:42:44.973Z"
   },
   {
    "duration": 64,
    "start_time": "2023-05-20T11:42:44.988Z"
   },
   {
    "duration": 26,
    "start_time": "2023-05-20T11:42:45.054Z"
   },
   {
    "duration": 10,
    "start_time": "2023-05-20T11:42:45.082Z"
   },
   {
    "duration": 54,
    "start_time": "2023-05-20T11:42:45.100Z"
   },
   {
    "duration": 13,
    "start_time": "2023-05-20T11:42:45.157Z"
   },
   {
    "duration": 7,
    "start_time": "2023-05-20T11:42:45.172Z"
   },
   {
    "duration": 25,
    "start_time": "2023-05-20T11:42:45.181Z"
   },
   {
    "duration": 59,
    "start_time": "2023-05-20T11:42:45.207Z"
   },
   {
    "duration": 16,
    "start_time": "2023-05-20T11:42:45.267Z"
   },
   {
    "duration": 15,
    "start_time": "2023-05-20T11:42:45.285Z"
   },
   {
    "duration": 55,
    "start_time": "2023-05-20T11:42:45.302Z"
   },
   {
    "duration": 15,
    "start_time": "2023-05-20T11:42:45.359Z"
   },
   {
    "duration": 18,
    "start_time": "2023-05-20T11:42:45.376Z"
   },
   {
    "duration": 57,
    "start_time": "2023-05-20T11:42:45.401Z"
   },
   {
    "duration": 20,
    "start_time": "2023-05-20T11:42:45.460Z"
   },
   {
    "duration": 7,
    "start_time": "2023-05-20T11:42:45.482Z"
   },
   {
    "duration": 49,
    "start_time": "2023-05-20T11:42:45.490Z"
   },
   {
    "duration": 405,
    "start_time": "2023-05-20T11:42:45.542Z"
   },
   {
    "duration": 357,
    "start_time": "2023-05-20T11:42:45.950Z"
   },
   {
    "duration": 14,
    "start_time": "2023-05-20T11:42:46.309Z"
   },
   {
    "duration": 34,
    "start_time": "2023-05-20T11:42:46.325Z"
   },
   {
    "duration": 267,
    "start_time": "2023-05-20T11:42:46.360Z"
   },
   {
    "duration": 312,
    "start_time": "2023-05-20T11:42:46.630Z"
   },
   {
    "duration": 254,
    "start_time": "2023-05-20T11:42:46.943Z"
   },
   {
    "duration": 370,
    "start_time": "2023-05-20T11:42:47.199Z"
   },
   {
    "duration": 205,
    "start_time": "2023-05-20T11:42:47.571Z"
   },
   {
    "duration": 1242,
    "start_time": "2023-05-20T11:45:36.817Z"
   },
   {
    "duration": 99,
    "start_time": "2023-05-20T11:45:38.061Z"
   },
   {
    "duration": 12,
    "start_time": "2023-05-20T11:45:38.162Z"
   },
   {
    "duration": 10,
    "start_time": "2023-05-20T11:45:38.175Z"
   },
   {
    "duration": 13,
    "start_time": "2023-05-20T11:45:38.187Z"
   },
   {
    "duration": 49,
    "start_time": "2023-05-20T11:45:38.201Z"
   },
   {
    "duration": 15,
    "start_time": "2023-05-20T11:45:38.253Z"
   },
   {
    "duration": 13,
    "start_time": "2023-05-20T11:45:38.269Z"
   },
   {
    "duration": 10,
    "start_time": "2023-05-20T11:45:38.283Z"
   },
   {
    "duration": 59,
    "start_time": "2023-05-20T11:45:38.294Z"
   },
   {
    "duration": 17,
    "start_time": "2023-05-20T11:45:38.354Z"
   },
   {
    "duration": 12,
    "start_time": "2023-05-20T11:45:38.373Z"
   },
   {
    "duration": 62,
    "start_time": "2023-05-20T11:45:38.386Z"
   },
   {
    "duration": 18,
    "start_time": "2023-05-20T11:45:38.451Z"
   },
   {
    "duration": 7,
    "start_time": "2023-05-20T11:45:38.471Z"
   },
   {
    "duration": 22,
    "start_time": "2023-05-20T11:45:38.479Z"
   },
   {
    "duration": 218,
    "start_time": "2023-05-20T11:45:38.503Z"
   },
   {
    "duration": 20,
    "start_time": "2023-05-20T11:45:38.723Z"
   },
   {
    "duration": 16,
    "start_time": "2023-05-20T11:45:38.745Z"
   },
   {
    "duration": 9,
    "start_time": "2023-05-20T11:45:38.763Z"
   },
   {
    "duration": 6,
    "start_time": "2023-05-20T11:45:38.773Z"
   },
   {
    "duration": 6,
    "start_time": "2023-05-20T11:45:38.781Z"
   },
   {
    "duration": 40,
    "start_time": "2023-05-20T11:45:38.789Z"
   },
   {
    "duration": 16,
    "start_time": "2023-05-20T11:45:38.831Z"
   },
   {
    "duration": 10,
    "start_time": "2023-05-20T11:45:38.848Z"
   },
   {
    "duration": 6,
    "start_time": "2023-05-20T11:45:38.859Z"
   },
   {
    "duration": 8,
    "start_time": "2023-05-20T11:45:38.866Z"
   },
   {
    "duration": 370,
    "start_time": "2023-05-20T11:45:38.875Z"
   },
   {
    "duration": 328,
    "start_time": "2023-05-20T11:45:39.247Z"
   },
   {
    "duration": 8,
    "start_time": "2023-05-20T11:45:39.576Z"
   },
   {
    "duration": 20,
    "start_time": "2023-05-20T11:45:39.585Z"
   },
   {
    "duration": 267,
    "start_time": "2023-05-20T11:45:39.606Z"
   },
   {
    "duration": 301,
    "start_time": "2023-05-20T11:45:39.875Z"
   },
   {
    "duration": 283,
    "start_time": "2023-05-20T11:45:40.178Z"
   },
   {
    "duration": 327,
    "start_time": "2023-05-20T11:45:40.462Z"
   },
   {
    "duration": 196,
    "start_time": "2023-05-20T11:45:40.791Z"
   },
   {
    "duration": 1247,
    "start_time": "2023-05-20T11:48:03.791Z"
   },
   {
    "duration": 103,
    "start_time": "2023-05-20T11:48:05.040Z"
   },
   {
    "duration": 11,
    "start_time": "2023-05-20T11:48:05.145Z"
   },
   {
    "duration": 24,
    "start_time": "2023-05-20T11:48:05.157Z"
   },
   {
    "duration": 62,
    "start_time": "2023-05-20T11:48:05.183Z"
   },
   {
    "duration": 9,
    "start_time": "2023-05-20T11:48:05.247Z"
   },
   {
    "duration": 14,
    "start_time": "2023-05-20T11:48:05.258Z"
   },
   {
    "duration": 43,
    "start_time": "2023-05-20T11:48:05.274Z"
   },
   {
    "duration": 28,
    "start_time": "2023-05-20T11:48:05.328Z"
   },
   {
    "duration": 14,
    "start_time": "2023-05-20T11:48:05.357Z"
   },
   {
    "duration": 12,
    "start_time": "2023-05-20T11:48:05.373Z"
   },
   {
    "duration": 38,
    "start_time": "2023-05-20T11:48:05.386Z"
   },
   {
    "duration": 19,
    "start_time": "2023-05-20T11:48:05.425Z"
   },
   {
    "duration": 21,
    "start_time": "2023-05-20T11:48:05.446Z"
   },
   {
    "duration": 14,
    "start_time": "2023-05-20T11:48:05.469Z"
   },
   {
    "duration": 57,
    "start_time": "2023-05-20T11:48:05.484Z"
   },
   {
    "duration": 6,
    "start_time": "2023-05-20T11:48:05.543Z"
   },
   {
    "duration": 13,
    "start_time": "2023-05-20T11:48:05.551Z"
   },
   {
    "duration": 9,
    "start_time": "2023-05-20T11:48:05.566Z"
   },
   {
    "duration": 7,
    "start_time": "2023-05-20T11:48:05.576Z"
   },
   {
    "duration": 13,
    "start_time": "2023-05-20T11:48:05.584Z"
   },
   {
    "duration": 21,
    "start_time": "2023-05-20T11:48:05.604Z"
   },
   {
    "duration": 174,
    "start_time": "2023-05-20T11:48:08.288Z"
   },
   {
    "duration": 7,
    "start_time": "2023-05-20T11:48:22.562Z"
   },
   {
    "duration": 152,
    "start_time": "2023-05-20T11:48:57.033Z"
   },
   {
    "duration": 7,
    "start_time": "2023-05-20T11:48:59.560Z"
   },
   {
    "duration": 13,
    "start_time": "2023-05-20T11:49:04.892Z"
   },
   {
    "duration": 5,
    "start_time": "2023-05-20T11:49:06.820Z"
   },
   {
    "duration": 9,
    "start_time": "2023-05-20T11:49:11.238Z"
   },
   {
    "duration": 197,
    "start_time": "2023-05-20T11:49:12.660Z"
   },
   {
    "duration": 162,
    "start_time": "2023-05-20T11:55:29.024Z"
   },
   {
    "duration": 1399,
    "start_time": "2023-05-20T12:01:49.880Z"
   },
   {
    "duration": 5,
    "start_time": "2023-05-20T12:02:30.523Z"
   },
   {
    "duration": 193,
    "start_time": "2023-05-20T12:16:33.283Z"
   },
   {
    "duration": 199,
    "start_time": "2023-05-20T12:17:41.843Z"
   },
   {
    "duration": 99,
    "start_time": "2023-05-20T12:21:48.423Z"
   },
   {
    "duration": 190,
    "start_time": "2023-05-20T12:25:02.088Z"
   },
   {
    "duration": 179,
    "start_time": "2023-05-20T12:25:13.192Z"
   },
   {
    "duration": 173,
    "start_time": "2023-05-20T12:25:36.148Z"
   },
   {
    "duration": 50,
    "start_time": "2023-05-20T12:26:45.719Z"
   },
   {
    "duration": 44,
    "start_time": "2023-05-20T12:26:54.233Z"
   },
   {
    "duration": 295,
    "start_time": "2023-05-20T12:27:04.619Z"
   },
   {
    "duration": 154,
    "start_time": "2023-05-20T12:29:20.927Z"
   },
   {
    "duration": 244,
    "start_time": "2023-05-20T12:29:35.969Z"
   },
   {
    "duration": 198,
    "start_time": "2023-05-20T12:31:47.052Z"
   },
   {
    "duration": 191,
    "start_time": "2023-05-20T12:31:54.993Z"
   },
   {
    "duration": 214,
    "start_time": "2023-05-20T12:32:15.530Z"
   },
   {
    "duration": 10,
    "start_time": "2023-05-20T12:35:28.334Z"
   },
   {
    "duration": 1037,
    "start_time": "2023-05-20T12:35:36.838Z"
   },
   {
    "duration": 10,
    "start_time": "2023-05-20T12:36:27.392Z"
   },
   {
    "duration": 5,
    "start_time": "2023-05-20T12:40:27.655Z"
   },
   {
    "duration": 7,
    "start_time": "2023-05-20T12:40:35.695Z"
   },
   {
    "duration": 108,
    "start_time": "2023-05-20T12:55:46.074Z"
   },
   {
    "duration": 182,
    "start_time": "2023-05-20T12:56:26.740Z"
   },
   {
    "duration": 244,
    "start_time": "2023-05-20T12:56:49.825Z"
   },
   {
    "duration": 26,
    "start_time": "2023-05-20T12:57:01.802Z"
   },
   {
    "duration": 25,
    "start_time": "2023-05-20T12:57:13.223Z"
   },
   {
    "duration": 171,
    "start_time": "2023-05-20T12:57:29.853Z"
   },
   {
    "duration": 74,
    "start_time": "2023-05-20T13:16:54.292Z"
   },
   {
    "duration": 20,
    "start_time": "2023-05-20T13:17:08.849Z"
   },
   {
    "duration": 95,
    "start_time": "2023-05-20T13:17:12.561Z"
   },
   {
    "duration": 34,
    "start_time": "2023-05-20T13:17:16.284Z"
   },
   {
    "duration": 156,
    "start_time": "2023-05-20T13:23:04.776Z"
   },
   {
    "duration": 140,
    "start_time": "2023-05-20T13:23:17.631Z"
   },
   {
    "duration": 156,
    "start_time": "2023-05-20T13:23:26.595Z"
   },
   {
    "duration": 11,
    "start_time": "2023-05-20T13:30:22.969Z"
   },
   {
    "duration": 176,
    "start_time": "2023-05-20T13:31:20.275Z"
   },
   {
    "duration": 12,
    "start_time": "2023-05-20T13:31:30.708Z"
   },
   {
    "duration": 741,
    "start_time": "2023-05-20T13:59:42.268Z"
   },
   {
    "duration": 1057,
    "start_time": "2023-05-20T14:00:08.359Z"
   },
   {
    "duration": 138,
    "start_time": "2023-05-20T14:01:01.662Z"
   },
   {
    "duration": 9,
    "start_time": "2023-05-20T14:01:05.218Z"
   },
   {
    "duration": 9,
    "start_time": "2023-05-20T14:01:23.780Z"
   },
   {
    "duration": 9,
    "start_time": "2023-05-20T14:02:15.057Z"
   },
   {
    "duration": 1102,
    "start_time": "2023-05-20T14:02:28.869Z"
   },
   {
    "duration": 87,
    "start_time": "2023-05-20T14:02:29.973Z"
   },
   {
    "duration": 11,
    "start_time": "2023-05-20T14:02:30.062Z"
   },
   {
    "duration": 58,
    "start_time": "2023-05-20T14:02:30.074Z"
   },
   {
    "duration": 45,
    "start_time": "2023-05-20T14:02:30.135Z"
   },
   {
    "duration": 61,
    "start_time": "2023-05-20T14:02:30.181Z"
   },
   {
    "duration": 56,
    "start_time": "2023-05-20T14:02:30.244Z"
   },
   {
    "duration": 40,
    "start_time": "2023-05-20T14:02:30.302Z"
   },
   {
    "duration": 57,
    "start_time": "2023-05-20T14:02:30.343Z"
   },
   {
    "duration": 31,
    "start_time": "2023-05-20T14:02:30.401Z"
   },
   {
    "duration": 33,
    "start_time": "2023-05-20T14:02:30.434Z"
   },
   {
    "duration": 21,
    "start_time": "2023-05-20T14:02:30.469Z"
   },
   {
    "duration": 35,
    "start_time": "2023-05-20T14:02:30.491Z"
   },
   {
    "duration": 27,
    "start_time": "2023-05-20T14:02:30.529Z"
   },
   {
    "duration": 35,
    "start_time": "2023-05-20T14:02:30.558Z"
   },
   {
    "duration": 65,
    "start_time": "2023-05-20T14:02:30.594Z"
   },
   {
    "duration": 35,
    "start_time": "2023-05-20T14:02:30.661Z"
   },
   {
    "duration": 68,
    "start_time": "2023-05-20T14:02:30.698Z"
   },
   {
    "duration": 69,
    "start_time": "2023-05-20T14:02:30.768Z"
   },
   {
    "duration": 36,
    "start_time": "2023-05-20T14:02:30.839Z"
   },
   {
    "duration": 51,
    "start_time": "2023-05-20T14:02:30.876Z"
   },
   {
    "duration": 42,
    "start_time": "2023-05-20T14:02:30.929Z"
   },
   {
    "duration": 28,
    "start_time": "2023-05-20T14:02:30.973Z"
   },
   {
    "duration": 21,
    "start_time": "2023-05-20T14:02:31.004Z"
   },
   {
    "duration": 32,
    "start_time": "2023-05-20T14:02:31.027Z"
   },
   {
    "duration": 34,
    "start_time": "2023-05-20T14:02:31.060Z"
   },
   {
    "duration": 321,
    "start_time": "2023-05-20T14:02:31.096Z"
   },
   {
    "duration": 294,
    "start_time": "2023-05-20T14:02:31.420Z"
   },
   {
    "duration": 8,
    "start_time": "2023-05-20T14:02:31.717Z"
   },
   {
    "duration": 25,
    "start_time": "2023-05-20T14:02:31.726Z"
   },
   {
    "duration": 202,
    "start_time": "2023-05-20T14:02:31.753Z"
   },
   {
    "duration": 324,
    "start_time": "2023-05-20T14:02:31.957Z"
   },
   {
    "duration": 227,
    "start_time": "2023-05-20T14:02:32.283Z"
   },
   {
    "duration": 301,
    "start_time": "2023-05-20T14:02:32.512Z"
   },
   {
    "duration": 161,
    "start_time": "2023-05-20T14:02:32.814Z"
   },
   {
    "duration": 3,
    "start_time": "2023-05-20T14:02:32.976Z"
   },
   {
    "duration": 156,
    "start_time": "2023-05-20T14:02:32.981Z"
   },
   {
    "duration": 165,
    "start_time": "2023-05-20T14:02:33.139Z"
   },
   {
    "duration": 4,
    "start_time": "2023-05-20T14:02:33.306Z"
   },
   {
    "duration": 285,
    "start_time": "2023-05-20T14:02:33.313Z"
   },
   {
    "duration": 38,
    "start_time": "2023-05-20T14:02:33.601Z"
   },
   {
    "duration": 135,
    "start_time": "2023-05-20T14:02:33.641Z"
   },
   {
    "duration": 18,
    "start_time": "2023-05-20T14:02:33.778Z"
   },
   {
    "duration": 102,
    "start_time": "2023-05-20T14:02:33.798Z"
   },
   {
    "duration": 8,
    "start_time": "2023-05-20T14:02:37.880Z"
   },
   {
    "duration": 1104,
    "start_time": "2023-05-20T14:02:59.909Z"
   },
   {
    "duration": 73,
    "start_time": "2023-05-20T14:03:01.015Z"
   },
   {
    "duration": 11,
    "start_time": "2023-05-20T14:03:01.089Z"
   },
   {
    "duration": 26,
    "start_time": "2023-05-20T14:03:01.101Z"
   },
   {
    "duration": 34,
    "start_time": "2023-05-20T14:03:01.129Z"
   },
   {
    "duration": 18,
    "start_time": "2023-05-20T14:03:01.165Z"
   },
   {
    "duration": 25,
    "start_time": "2023-05-20T14:03:01.184Z"
   },
   {
    "duration": 37,
    "start_time": "2023-05-20T14:03:01.210Z"
   },
   {
    "duration": 33,
    "start_time": "2023-05-20T14:03:01.248Z"
   },
   {
    "duration": 25,
    "start_time": "2023-05-20T14:03:01.283Z"
   },
   {
    "duration": 32,
    "start_time": "2023-05-20T14:03:01.309Z"
   },
   {
    "duration": 36,
    "start_time": "2023-05-20T14:03:01.343Z"
   },
   {
    "duration": 33,
    "start_time": "2023-05-20T14:03:01.381Z"
   },
   {
    "duration": 35,
    "start_time": "2023-05-20T14:03:01.417Z"
   },
   {
    "duration": 52,
    "start_time": "2023-05-20T14:03:01.454Z"
   },
   {
    "duration": 42,
    "start_time": "2023-05-20T14:03:01.508Z"
   },
   {
    "duration": 71,
    "start_time": "2023-05-20T14:03:01.552Z"
   },
   {
    "duration": 38,
    "start_time": "2023-05-20T14:03:01.625Z"
   },
   {
    "duration": 31,
    "start_time": "2023-05-20T14:03:01.665Z"
   },
   {
    "duration": 39,
    "start_time": "2023-05-20T14:03:01.698Z"
   },
   {
    "duration": 24,
    "start_time": "2023-05-20T14:03:01.739Z"
   },
   {
    "duration": 21,
    "start_time": "2023-05-20T14:03:01.765Z"
   },
   {
    "duration": 42,
    "start_time": "2023-05-20T14:03:01.788Z"
   },
   {
    "duration": 17,
    "start_time": "2023-05-20T14:03:01.831Z"
   },
   {
    "duration": 21,
    "start_time": "2023-05-20T14:03:01.849Z"
   },
   {
    "duration": 17,
    "start_time": "2023-05-20T14:03:01.871Z"
   },
   {
    "duration": 310,
    "start_time": "2023-05-20T14:03:01.890Z"
   },
   {
    "duration": 280,
    "start_time": "2023-05-20T14:03:02.201Z"
   },
   {
    "duration": 13,
    "start_time": "2023-05-20T14:03:02.483Z"
   },
   {
    "duration": 22,
    "start_time": "2023-05-20T14:03:02.497Z"
   },
   {
    "duration": 197,
    "start_time": "2023-05-20T14:03:02.521Z"
   },
   {
    "duration": 287,
    "start_time": "2023-05-20T14:03:02.719Z"
   },
   {
    "duration": 209,
    "start_time": "2023-05-20T14:03:03.008Z"
   },
   {
    "duration": 290,
    "start_time": "2023-05-20T14:03:03.218Z"
   },
   {
    "duration": 160,
    "start_time": "2023-05-20T14:03:03.510Z"
   },
   {
    "duration": 4,
    "start_time": "2023-05-20T14:03:03.671Z"
   },
   {
    "duration": 159,
    "start_time": "2023-05-20T14:03:03.677Z"
   },
   {
    "duration": 156,
    "start_time": "2023-05-20T14:03:03.838Z"
   },
   {
    "duration": 4,
    "start_time": "2023-05-20T14:03:03.996Z"
   },
   {
    "duration": 277,
    "start_time": "2023-05-20T14:03:04.002Z"
   },
   {
    "duration": 26,
    "start_time": "2023-05-20T14:03:04.283Z"
   },
   {
    "duration": 149,
    "start_time": "2023-05-20T14:03:04.311Z"
   },
   {
    "duration": 10,
    "start_time": "2023-05-20T14:03:04.461Z"
   },
   {
    "duration": 23,
    "start_time": "2023-05-20T14:03:04.472Z"
   },
   {
    "duration": 8,
    "start_time": "2023-05-20T14:03:49.649Z"
   },
   {
    "duration": 4,
    "start_time": "2023-05-20T14:05:09.043Z"
   },
   {
    "duration": 751,
    "start_time": "2023-05-20T14:07:55.462Z"
   },
   {
    "duration": 10,
    "start_time": "2023-05-20T14:08:24.879Z"
   },
   {
    "duration": 10,
    "start_time": "2023-05-20T14:08:51.452Z"
   },
   {
    "duration": 730,
    "start_time": "2023-05-20T14:09:15.405Z"
   },
   {
    "duration": 7,
    "start_time": "2023-05-20T14:11:00.000Z"
   },
   {
    "duration": 21,
    "start_time": "2023-05-20T14:11:28.039Z"
   },
   {
    "duration": 21,
    "start_time": "2023-05-20T14:11:43.246Z"
   },
   {
    "duration": 19,
    "start_time": "2023-05-20T14:17:05.391Z"
   },
   {
    "duration": 11,
    "start_time": "2023-05-20T14:17:25.502Z"
   },
   {
    "duration": 51,
    "start_time": "2023-05-20T15:00:23.808Z"
   },
   {
    "duration": 1114,
    "start_time": "2023-05-20T15:03:22.061Z"
   },
   {
    "duration": 73,
    "start_time": "2023-05-20T15:03:23.177Z"
   },
   {
    "duration": 10,
    "start_time": "2023-05-20T15:03:23.252Z"
   },
   {
    "duration": 14,
    "start_time": "2023-05-20T15:03:23.264Z"
   },
   {
    "duration": 8,
    "start_time": "2023-05-20T15:03:23.279Z"
   },
   {
    "duration": 7,
    "start_time": "2023-05-20T15:03:23.288Z"
   },
   {
    "duration": 10,
    "start_time": "2023-05-20T15:03:23.296Z"
   },
   {
    "duration": 12,
    "start_time": "2023-05-20T15:03:23.307Z"
   },
   {
    "duration": 11,
    "start_time": "2023-05-20T15:03:23.320Z"
   },
   {
    "duration": 11,
    "start_time": "2023-05-20T15:03:23.334Z"
   },
   {
    "duration": 11,
    "start_time": "2023-05-20T15:03:23.347Z"
   },
   {
    "duration": 6,
    "start_time": "2023-05-20T15:03:23.360Z"
   },
   {
    "duration": 6,
    "start_time": "2023-05-20T15:03:23.395Z"
   },
   {
    "duration": 12,
    "start_time": "2023-05-20T15:03:23.403Z"
   },
   {
    "duration": 9,
    "start_time": "2023-05-20T15:03:23.417Z"
   },
   {
    "duration": 15,
    "start_time": "2023-05-20T15:03:23.427Z"
   },
   {
    "duration": 10,
    "start_time": "2023-05-20T15:03:23.443Z"
   },
   {
    "duration": 10,
    "start_time": "2023-05-20T15:03:23.455Z"
   },
   {
    "duration": 29,
    "start_time": "2023-05-20T15:03:23.466Z"
   },
   {
    "duration": 6,
    "start_time": "2023-05-20T15:03:23.496Z"
   },
   {
    "duration": 5,
    "start_time": "2023-05-20T15:03:23.504Z"
   },
   {
    "duration": 10,
    "start_time": "2023-05-20T15:03:23.511Z"
   },
   {
    "duration": 7,
    "start_time": "2023-05-20T15:03:23.523Z"
   },
   {
    "duration": 7,
    "start_time": "2023-05-20T15:03:23.531Z"
   },
   {
    "duration": 6,
    "start_time": "2023-05-20T15:03:23.540Z"
   },
   {
    "duration": 7,
    "start_time": "2023-05-20T15:03:23.548Z"
   },
   {
    "duration": 318,
    "start_time": "2023-05-20T15:03:23.556Z"
   },
   {
    "duration": 275,
    "start_time": "2023-05-20T15:03:23.878Z"
   },
   {
    "duration": 9,
    "start_time": "2023-05-20T15:03:24.155Z"
   },
   {
    "duration": 13,
    "start_time": "2023-05-20T15:03:24.165Z"
   },
   {
    "duration": 218,
    "start_time": "2023-05-20T15:03:24.179Z"
   },
   {
    "duration": 351,
    "start_time": "2023-05-20T15:03:24.399Z"
   },
   {
    "duration": 214,
    "start_time": "2023-05-20T15:03:24.752Z"
   },
   {
    "duration": 346,
    "start_time": "2023-05-20T15:03:24.968Z"
   },
   {
    "duration": 162,
    "start_time": "2023-05-20T15:03:25.316Z"
   },
   {
    "duration": 5,
    "start_time": "2023-05-20T15:03:25.480Z"
   },
   {
    "duration": 160,
    "start_time": "2023-05-20T15:03:25.495Z"
   },
   {
    "duration": 164,
    "start_time": "2023-05-20T15:03:25.656Z"
   },
   {
    "duration": 5,
    "start_time": "2023-05-20T15:03:25.821Z"
   },
   {
    "duration": 284,
    "start_time": "2023-05-20T15:03:25.828Z"
   },
   {
    "duration": 20,
    "start_time": "2023-05-20T15:03:26.113Z"
   },
   {
    "duration": 163,
    "start_time": "2023-05-20T15:03:26.135Z"
   },
   {
    "duration": 12,
    "start_time": "2023-05-20T15:03:26.300Z"
   },
   {
    "duration": 11,
    "start_time": "2023-05-20T15:03:26.314Z"
   },
   {
    "duration": 9,
    "start_time": "2023-05-20T15:03:26.327Z"
   },
   {
    "duration": 57,
    "start_time": "2023-05-20T15:03:26.337Z"
   },
   {
    "duration": 18,
    "start_time": "2023-05-20T15:03:26.397Z"
   },
   {
    "duration": 1212,
    "start_time": "2023-05-21T00:54:03.175Z"
   },
   {
    "duration": 73,
    "start_time": "2023-05-21T00:54:04.389Z"
   },
   {
    "duration": 13,
    "start_time": "2023-05-21T00:54:04.464Z"
   },
   {
    "duration": 12,
    "start_time": "2023-05-21T00:54:04.479Z"
   },
   {
    "duration": 18,
    "start_time": "2023-05-21T00:54:04.493Z"
   },
   {
    "duration": 15,
    "start_time": "2023-05-21T00:54:04.513Z"
   },
   {
    "duration": 18,
    "start_time": "2023-05-21T00:54:04.530Z"
   },
   {
    "duration": 23,
    "start_time": "2023-05-21T00:54:04.550Z"
   },
   {
    "duration": 12,
    "start_time": "2023-05-21T00:54:04.574Z"
   },
   {
    "duration": 20,
    "start_time": "2023-05-21T00:54:04.589Z"
   },
   {
    "duration": 19,
    "start_time": "2023-05-21T00:54:04.611Z"
   },
   {
    "duration": 25,
    "start_time": "2023-05-21T00:54:04.632Z"
   },
   {
    "duration": 29,
    "start_time": "2023-05-21T00:54:04.659Z"
   },
   {
    "duration": 14,
    "start_time": "2023-05-21T00:54:04.690Z"
   },
   {
    "duration": 38,
    "start_time": "2023-05-21T00:54:04.707Z"
   },
   {
    "duration": 56,
    "start_time": "2023-05-21T00:54:04.748Z"
   },
   {
    "duration": 31,
    "start_time": "2023-05-21T00:54:04.806Z"
   },
   {
    "duration": 18,
    "start_time": "2023-05-21T00:54:04.839Z"
   },
   {
    "duration": 34,
    "start_time": "2023-05-21T00:54:04.858Z"
   },
   {
    "duration": 24,
    "start_time": "2023-05-21T00:54:04.893Z"
   },
   {
    "duration": 9,
    "start_time": "2023-05-21T00:54:04.919Z"
   },
   {
    "duration": 18,
    "start_time": "2023-05-21T00:54:04.930Z"
   },
   {
    "duration": 17,
    "start_time": "2023-05-21T00:54:04.950Z"
   },
   {
    "duration": 19,
    "start_time": "2023-05-21T00:54:04.969Z"
   },
   {
    "duration": 6,
    "start_time": "2023-05-21T00:54:04.990Z"
   },
   {
    "duration": 10,
    "start_time": "2023-05-21T00:54:04.998Z"
   },
   {
    "duration": 339,
    "start_time": "2023-05-21T00:54:05.010Z"
   },
   {
    "duration": 341,
    "start_time": "2023-05-21T00:54:05.353Z"
   },
   {
    "duration": 10,
    "start_time": "2023-05-21T00:54:05.695Z"
   },
   {
    "duration": 24,
    "start_time": "2023-05-21T00:54:05.706Z"
   },
   {
    "duration": 247,
    "start_time": "2023-05-21T00:54:05.732Z"
   },
   {
    "duration": 382,
    "start_time": "2023-05-21T00:54:05.982Z"
   },
   {
    "duration": 226,
    "start_time": "2023-05-21T00:54:06.366Z"
   },
   {
    "duration": 333,
    "start_time": "2023-05-21T00:54:06.594Z"
   },
   {
    "duration": 200,
    "start_time": "2023-05-21T00:54:06.929Z"
   },
   {
    "duration": 4,
    "start_time": "2023-05-21T00:54:07.131Z"
   },
   {
    "duration": 179,
    "start_time": "2023-05-21T00:54:07.136Z"
   },
   {
    "duration": 173,
    "start_time": "2023-05-21T00:54:07.316Z"
   },
   {
    "duration": 5,
    "start_time": "2023-05-21T00:54:07.491Z"
   },
   {
    "duration": 276,
    "start_time": "2023-05-21T00:54:07.497Z"
   },
   {
    "duration": 21,
    "start_time": "2023-05-21T00:54:07.775Z"
   },
   {
    "duration": 162,
    "start_time": "2023-05-21T00:54:07.798Z"
   },
   {
    "duration": 11,
    "start_time": "2023-05-21T00:54:07.961Z"
   },
   {
    "duration": 14,
    "start_time": "2023-05-21T00:54:07.974Z"
   },
   {
    "duration": 13,
    "start_time": "2023-05-21T00:54:07.990Z"
   },
   {
    "duration": 42,
    "start_time": "2023-05-21T00:54:08.004Z"
   },
   {
    "duration": 13,
    "start_time": "2023-05-21T00:54:08.047Z"
   }
  ],
  "kernelspec": {
   "display_name": "Python 3 (ipykernel)",
   "language": "python",
   "name": "python3"
  },
  "language_info": {
   "codemirror_mode": {
    "name": "ipython",
    "version": 3
   },
   "file_extension": ".py",
   "mimetype": "text/x-python",
   "name": "python",
   "nbconvert_exporter": "python",
   "pygments_lexer": "ipython3",
   "version": "3.9.13"
  },
  "toc": {
   "base_numbering": 1,
   "nav_menu": {},
   "number_sections": true,
   "sideBar": true,
   "skip_h1_title": true,
   "title_cell": "Table of Contents",
   "title_sidebar": "Contents",
   "toc_cell": false,
   "toc_position": {
    "height": "calc(100% - 180px)",
    "left": "10px",
    "top": "150px",
    "width": "191px"
   },
   "toc_section_display": true,
   "toc_window_display": false
  }
 },
 "nbformat": 4,
 "nbformat_minor": 2
}
